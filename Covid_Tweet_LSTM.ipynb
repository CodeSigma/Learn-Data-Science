{
  "nbformat": 4,
  "nbformat_minor": 0,
  "metadata": {
    "colab": {
      "name": "Covid_Tweet_LSTM.ipynb",
      "provenance": [],
      "collapsed_sections": []
    },
    "kernelspec": {
      "name": "python3",
      "display_name": "Python 3"
    },
    "language_info": {
      "name": "python"
    }
  },
  "cells": [
    {
      "cell_type": "code",
      "metadata": {
        "id": "It6MB3Qi0eGv"
      },
      "source": [
        "from google.colab import drive, files\n",
        "import os\n",
        "import matplotlib.pyplot as plt\n",
        "import numpy as np\n",
        "import pandas as pd\n",
        "import re, string\n",
        "import tensorflow as tf\n",
        "from tensorflow.keras.preprocessing.text import Tokenizer\n",
        "from tensorflow.keras.preprocessing.sequence import pad_sequences\n",
        "\n",
        "import nltk\n",
        "from nltk.corpus import stopwords\n",
        "\n",
        "\n",
        "from keras.layers import Activation, Dropout, Flatten, Dense, BatchNormalization, Input\n",
        "from keras.callbacks import EarlyStopping, ModelCheckpoint, ReduceLROnPlateau, Callback\n",
        "from keras.models import *\n",
        "from keras.optimizers import Adam"
      ],
      "execution_count": 148,
      "outputs": []
    },
    {
      "cell_type": "code",
      "metadata": {
        "id": "KLutBzZv0iLY"
      },
      "source": [
        "# ! pip install -q kaggle\n",
        "# !mkdir covid_tweet\n",
        "# !cp kaggle.json ~/.kaggle\n",
        "# !kaggle datasets download -d datatattle/covid-19-nlp-text-classification"
      ],
      "execution_count": null,
      "outputs": []
    },
    {
      "cell_type": "code",
      "metadata": {
        "colab": {
          "base_uri": "https://localhost:8080/"
        },
        "id": "U2ZbNU4I0Aeg",
        "outputId": "dc2dc442-74e8-4141-bcf6-ded983158e7e"
      },
      "source": [
        "drive.mount('/content/drive/')\n",
        "os.chdir('/content/drive/My Drive/Kaggle/covid_tweet')"
      ],
      "execution_count": 3,
      "outputs": [
        {
          "output_type": "stream",
          "text": [
            "Mounted at /content/drive/\n"
          ],
          "name": "stdout"
        }
      ]
    },
    {
      "cell_type": "code",
      "metadata": {
        "id": "q0E1sGoMtAA9"
      },
      "source": [
        "df = pd.read_csv(\"Corona_NLP_train.csv\", engine='python')"
      ],
      "execution_count": null,
      "outputs": []
    },
    {
      "cell_type": "code",
      "metadata": {
        "colab": {
          "base_uri": "https://localhost:8080/",
          "height": 422
        },
        "id": "fZfwYtVT2zmn",
        "outputId": "3b10e121-669c-4f96-9407-7fb3aff3b879"
      },
      "source": [
        "df_train = pd.read_csv(\"Corona_NLP_train.csv\",  engine='python')\n",
        "df_train"
      ],
      "execution_count": null,
      "outputs": [
        {
          "output_type": "execute_result",
          "data": {
            "text/html": [
              "<div>\n",
              "<style scoped>\n",
              "    .dataframe tbody tr th:only-of-type {\n",
              "        vertical-align: middle;\n",
              "    }\n",
              "\n",
              "    .dataframe tbody tr th {\n",
              "        vertical-align: top;\n",
              "    }\n",
              "\n",
              "    .dataframe thead th {\n",
              "        text-align: right;\n",
              "    }\n",
              "</style>\n",
              "<table border=\"1\" class=\"dataframe\">\n",
              "  <thead>\n",
              "    <tr style=\"text-align: right;\">\n",
              "      <th></th>\n",
              "      <th>UserName</th>\n",
              "      <th>ScreenName</th>\n",
              "      <th>Location</th>\n",
              "      <th>TweetAt</th>\n",
              "      <th>OriginalTweet</th>\n",
              "      <th>Sentiment</th>\n",
              "    </tr>\n",
              "  </thead>\n",
              "  <tbody>\n",
              "    <tr>\n",
              "      <th>0</th>\n",
              "      <td>3799</td>\n",
              "      <td>48751</td>\n",
              "      <td>London</td>\n",
              "      <td>16-03-2020</td>\n",
              "      <td>@MeNyrbie @Phil_Gahan @Chrisitv https://t.co/i...</td>\n",
              "      <td>Neutral</td>\n",
              "    </tr>\n",
              "    <tr>\n",
              "      <th>1</th>\n",
              "      <td>3800</td>\n",
              "      <td>48752</td>\n",
              "      <td>UK</td>\n",
              "      <td>16-03-2020</td>\n",
              "      <td>advice Talk to your neighbours family to excha...</td>\n",
              "      <td>Positive</td>\n",
              "    </tr>\n",
              "    <tr>\n",
              "      <th>2</th>\n",
              "      <td>3801</td>\n",
              "      <td>48753</td>\n",
              "      <td>Vagabonds</td>\n",
              "      <td>16-03-2020</td>\n",
              "      <td>Coronavirus Australia: Woolworths to give elde...</td>\n",
              "      <td>Positive</td>\n",
              "    </tr>\n",
              "    <tr>\n",
              "      <th>3</th>\n",
              "      <td>3802</td>\n",
              "      <td>48754</td>\n",
              "      <td>NaN</td>\n",
              "      <td>16-03-2020</td>\n",
              "      <td>My food stock is not the only one which is emp...</td>\n",
              "      <td>Positive</td>\n",
              "    </tr>\n",
              "    <tr>\n",
              "      <th>4</th>\n",
              "      <td>3803</td>\n",
              "      <td>48755</td>\n",
              "      <td>NaN</td>\n",
              "      <td>16-03-2020</td>\n",
              "      <td>Me, ready to go at supermarket during the #COV...</td>\n",
              "      <td>Extremely Negative</td>\n",
              "    </tr>\n",
              "    <tr>\n",
              "      <th>...</th>\n",
              "      <td>...</td>\n",
              "      <td>...</td>\n",
              "      <td>...</td>\n",
              "      <td>...</td>\n",
              "      <td>...</td>\n",
              "      <td>...</td>\n",
              "    </tr>\n",
              "    <tr>\n",
              "      <th>41152</th>\n",
              "      <td>44951</td>\n",
              "      <td>89903</td>\n",
              "      <td>Wellington City, New Zealand</td>\n",
              "      <td>14-04-2020</td>\n",
              "      <td>Airline pilots offering to stock supermarket s...</td>\n",
              "      <td>Neutral</td>\n",
              "    </tr>\n",
              "    <tr>\n",
              "      <th>41153</th>\n",
              "      <td>44952</td>\n",
              "      <td>89904</td>\n",
              "      <td>NaN</td>\n",
              "      <td>14-04-2020</td>\n",
              "      <td>Response to complaint not provided citing COVI...</td>\n",
              "      <td>Extremely Negative</td>\n",
              "    </tr>\n",
              "    <tr>\n",
              "      <th>41154</th>\n",
              "      <td>44953</td>\n",
              "      <td>89905</td>\n",
              "      <td>NaN</td>\n",
              "      <td>14-04-2020</td>\n",
              "      <td>You know its getting tough when @KameronWilds...</td>\n",
              "      <td>Positive</td>\n",
              "    </tr>\n",
              "    <tr>\n",
              "      <th>41155</th>\n",
              "      <td>44954</td>\n",
              "      <td>89906</td>\n",
              "      <td>NaN</td>\n",
              "      <td>14-04-2020</td>\n",
              "      <td>Is it wrong that the smell of hand sanitizer i...</td>\n",
              "      <td>Neutral</td>\n",
              "    </tr>\n",
              "    <tr>\n",
              "      <th>41156</th>\n",
              "      <td>44955</td>\n",
              "      <td>89907</td>\n",
              "      <td>i love you so much || he/him</td>\n",
              "      <td>14-04-2020</td>\n",
              "      <td>@TartiiCat Well new/used Rift S are going for ...</td>\n",
              "      <td>Negative</td>\n",
              "    </tr>\n",
              "  </tbody>\n",
              "</table>\n",
              "<p>41157 rows × 6 columns</p>\n",
              "</div>"
            ],
            "text/plain": [
              "       UserName  ...           Sentiment\n",
              "0          3799  ...             Neutral\n",
              "1          3800  ...            Positive\n",
              "2          3801  ...            Positive\n",
              "3          3802  ...            Positive\n",
              "4          3803  ...  Extremely Negative\n",
              "...         ...  ...                 ...\n",
              "41152     44951  ...             Neutral\n",
              "41153     44952  ...  Extremely Negative\n",
              "41154     44953  ...            Positive\n",
              "41155     44954  ...             Neutral\n",
              "41156     44955  ...            Negative\n",
              "\n",
              "[41157 rows x 6 columns]"
            ]
          },
          "metadata": {
            "tags": []
          },
          "execution_count": 39
        }
      ]
    },
    {
      "cell_type": "code",
      "metadata": {
        "colab": {
          "base_uri": "https://localhost:8080/",
          "height": 34
        },
        "id": "xg0x-EVM6eib",
        "outputId": "15557784-b23c-4013-faec-27bc7263601b"
      },
      "source": [
        "df_train.OriginalTweet.loc[0]"
      ],
      "execution_count": null,
      "outputs": [
        {
          "output_type": "execute_result",
          "data": {
            "application/vnd.google.colaboratory.intrinsic+json": {
              "type": "string"
            },
            "text/plain": [
              "'@MeNyrbie @Phil_Gahan @Chrisitv https://t.co/iFz9FAn2Pa and https://t.co/xX6ghGFzCC and https://t.co/I2NlzdxNo8'"
            ]
          },
          "metadata": {
            "tags": []
          },
          "execution_count": 41
        }
      ]
    },
    {
      "cell_type": "markdown",
      "metadata": {
        "id": "BPwC0gZsgwra"
      },
      "source": [
        "# Data Cleaning"
      ]
    },
    {
      "cell_type": "code",
      "metadata": {
        "colab": {
          "base_uri": "https://localhost:8080/"
        },
        "id": "MMqgLiYe61D_",
        "outputId": "db547c45-fc77-4ae8-add4-9c120d348496"
      },
      "source": [
        "nltk.download('stopwords')\n",
        "\n",
        "def clean_text(text):\n",
        "    '''Make text lowercase then remove punctuation, username, and links'''\n",
        "    text = text.lower()\n",
        "    text = re.sub('@\\S*|http\\S*', '', text)\n",
        "    text = re.sub('[%s]' % re.escape(string.punctuation), '', text)\n",
        "    text = re.sub('\\w*\\d\\w*', '', text)\n",
        "    text = re.sub('\\s\\s+', ' ', text)\n",
        "\n",
        "    new_text = [x for x in text.split(' ') if x not in stopwords.words()]\n",
        "    new_text = ' '.join(new_text)\n",
        "    return new_text\n",
        "\n",
        "ct = lambda x: clean_text(x)\n",
        "\n"
      ],
      "execution_count": null,
      "outputs": [
        {
          "output_type": "stream",
          "text": [
            "[nltk_data] Downloading package stopwords to /root/nltk_data...\n",
            "[nltk_data]   Package stopwords is already up-to-date!\n"
          ],
          "name": "stdout"
        }
      ]
    },
    {
      "cell_type": "code",
      "metadata": {
        "id": "yKp2TjqDIlUG"
      },
      "source": [
        "#This process took ~2 hours, load the cleaned data to proceed\n",
        "\n",
        "# df_train.OriginalTweet = df_train.OriginalTweet.apply(ct)"
      ],
      "execution_count": 565,
      "outputs": []
    },
    {
      "cell_type": "markdown",
      "metadata": {
        "id": "t82sGE-Yh_qu"
      },
      "source": [
        "# Data Preparation"
      ]
    },
    {
      "cell_type": "code",
      "metadata": {
        "id": "DvU9IY8NF-3m"
      },
      "source": [
        "df_train = pd.read_csv(\"df_train_cleaned\")"
      ],
      "execution_count": 539,
      "outputs": []
    },
    {
      "cell_type": "code",
      "metadata": {
        "id": "a3ONgUnYGpZq"
      },
      "source": [
        "df_train = df_train[(df_train.OriginalTweet.isna() == False) & (df_train.Sentiment.isna() == False)]"
      ],
      "execution_count": 540,
      "outputs": []
    },
    {
      "cell_type": "code",
      "metadata": {
        "id": "0mG0BguvVpzT"
      },
      "source": [
        "encode = {\"Extremely Negative\":-1, \"Negative\":-1, \"Neutral\":0, \"Positive\":1, \"Extremely Positive\":1}\n",
        "df_train.Sentiment = df_train.Sentiment.map(encode)"
      ],
      "execution_count": 541,
      "outputs": []
    },
    {
      "cell_type": "code",
      "metadata": {
        "id": "vM6I_VXRMTd1"
      },
      "source": [
        "X_train = df_train.OriginalTweet.values\n",
        "y_train = df_train.Sentiment"
      ],
      "execution_count": 542,
      "outputs": []
    },
    {
      "cell_type": "code",
      "metadata": {
        "colab": {
          "base_uri": "https://localhost:8080/"
        },
        "id": "2unW1n7KlOic",
        "outputId": "a7ffbf20-79d9-43dd-e836-0e2014612b0d"
      },
      "source": [
        "#Undersampling, 60% val_acc\n",
        "\n",
        "# new_X_train = []\n",
        "# new_y_train = []\n",
        "\n",
        "# neg = 0\n",
        "# neu = 0\n",
        "# pos = 0 \n",
        "# limit = y_train.value_counts().min()\n",
        "# y_train = y_train.values\n",
        "# for idx in range(len(y_train)):\n",
        "#   if y_train[idx] == -1:\n",
        "#     if neg < limit:\n",
        "#       new_X_train.append(X_train[idx])\n",
        "#       new_y_train.append(-1)\n",
        "#       neg += 1\n",
        "#   elif y_train[idx] == 0:\n",
        "#     if neu < limit:\n",
        "#       new_X_train.append(X_train[idx])\n",
        "#       new_y_train.append(0)\n",
        "#       neu += 1\n",
        "      \n",
        "#   else:\n",
        "#     if pos < limit:\n",
        "#       new_X_train.append(X_train[idx])\n",
        "#       new_y_train.append(1)\n",
        "#       pos += 1\n",
        "\n",
        "\n",
        "# X_train = new_X_train\n",
        "# y_train = new_y_train\n",
        "# print(len(new_X_train))\n"
      ],
      "execution_count": 516,
      "outputs": [
        {
          "output_type": "stream",
          "text": [
            "23034\n"
          ],
          "name": "stdout"
        }
      ]
    },
    {
      "cell_type": "code",
      "metadata": {
        "colab": {
          "base_uri": "https://localhost:8080/",
          "height": 350
        },
        "id": "UKkqu7x-URuQ",
        "outputId": "4c57777c-7316-4edf-f9bf-b901bfcc7072"
      },
      "source": [
        "sns.countplot(y_train)"
      ],
      "execution_count": 545,
      "outputs": [
        {
          "output_type": "stream",
          "text": [
            "/usr/local/lib/python3.7/dist-packages/seaborn/_decorators.py:43: FutureWarning: Pass the following variable as a keyword arg: x. From version 0.12, the only valid positional argument will be `data`, and passing other arguments without an explicit keyword will result in an error or misinterpretation.\n",
            "  FutureWarning\n"
          ],
          "name": "stderr"
        },
        {
          "output_type": "execute_result",
          "data": {
            "text/plain": [
              "<matplotlib.axes._subplots.AxesSubplot at 0x7fa77874db90>"
            ]
          },
          "metadata": {
            "tags": []
          },
          "execution_count": 545
        },
        {
          "output_type": "display_data",
          "data": {
            "image/png": "[encoded data removed]",
            "text/plain": [
              "<Figure size 432x288 with 1 Axes>"
            ]
          },
          "metadata": {
            "tags": [],
            "needs_background": "light"
          }
        }
      ]
    },
    {
      "cell_type": "markdown",
      "metadata": {
        "id": "Yx5QPz_Ai49m"
      },
      "source": [
        "**Tokenization**"
      ]
    },
    {
      "cell_type": "code",
      "metadata": {
        "id": "QULjoPYTKS9E"
      },
      "source": [
        "tokenizer = Tokenizer(oov_token='-')\n",
        "tokenizer.fit_on_texts(X_train)"
      ],
      "execution_count": 548,
      "outputs": []
    },
    {
      "cell_type": "code",
      "metadata": {
        "id": "QOeMhx_6WyVe"
      },
      "source": [
        "vocab_length = len(tokenizer.word_index) + 1\n",
        "embedding_dim = 64\n",
        "max_len = 32"
      ],
      "execution_count": 549,
      "outputs": []
    },
    {
      "cell_type": "code",
      "metadata": {
        "id": "inOQBnRaKoPe"
      },
      "source": [
        "X_train = tokenizer.texts_to_sequences(X_train)"
      ],
      "execution_count": 550,
      "outputs": []
    },
    {
      "cell_type": "code",
      "metadata": {
        "id": "bUk2O5j5O92x"
      },
      "source": [
        " X_train = pad_sequences(X_train,\n",
        "                        padding = 'post',\n",
        "                        maxlen = max_len,\n",
        "                        truncating = 'post')"
      ],
      "execution_count": 551,
      "outputs": []
    },
    {
      "cell_type": "code",
      "metadata": {
        "id": "dWOMuqdIYStB"
      },
      "source": [
        "# Oversampling data with SMOTE, but 40% val_acc\n",
        "\n",
        "# from imblearn.over_sampling import SMOTE\n",
        "# oversample = SMOTE()\n",
        "# X_train, y_train = oversample.fit_resample(X_train, y_train)"
      ],
      "execution_count": 501,
      "outputs": []
    },
    {
      "cell_type": "code",
      "metadata": {
        "id": "DE3VAlPd9DZQ"
      },
      "source": [
        "# Convert the label to categorical array\n",
        "\n",
        "y_train = tf.keras.utils.to_categorical(y_train, 3)"
      ],
      "execution_count": 566,
      "outputs": []
    },
    {
      "cell_type": "code",
      "metadata": {
        "colab": {
          "base_uri": "https://localhost:8080/"
        },
        "id": "8ixoTPhSoyU-",
        "outputId": "edf298f4-3778-47ce-8bf3-6da6f1607e0f"
      },
      "source": [
        "print(\"Vocab length:\", vocab_length)\n",
        "print(\"Max sequence length:\", max_len)"
      ],
      "execution_count": 555,
      "outputs": [
        {
          "output_type": "stream",
          "text": [
            "Vocab length: 48736\n",
            "Max sequence length: 32\n"
          ],
          "name": "stdout"
        }
      ]
    },
    {
      "cell_type": "markdown",
      "metadata": {
        "id": "yrANkQEhlOf_"
      },
      "source": [
        "**Modelling**"
      ]
    },
    {
      "cell_type": "code",
      "metadata": {
        "id": "s5Ijn8K91qOY"
      },
      "source": [
        "model = tf.keras.Sequential([\n",
        "    tf.keras.layers.Embedding(vocab_length, embedding_dim, input_length=max_len),\n",
        "    tf.keras.layers.LSTM(512),\n",
        "    tf.keras.layers.Dense(256,activation='relu'),\n",
        "    tf.keras.layers.Dense(128,activation='relu'),\n",
        "    tf.keras.layers.Dense(32,activation='relu'),\n",
        "    tf.keras.layers.Dense(3,activation='softmax')\n",
        "])\n",
        "model.compile(loss='categorical_crossentropy',optimizer=\"adam\",metrics=['accuracy'])"
      ],
      "execution_count": 557,
      "outputs": []
    },
    {
      "cell_type": "code",
      "metadata": {
        "id": "ljHv1jaUWuSF"
      },
      "source": [
        "# model = tf.keras.Sequential([\n",
        "#     tf.keras.layers.Embedding(vocab_length, embedding_dim, input_length=max_len),\n",
        "#     tf.keras.layers.Bidirectional(tf.keras.layers.GRU(256, return_sequences=True)),\n",
        "#     tf.keras.layers.GlobalAveragePooling1D(),\n",
        "#     tf.keras.layers.Dense(64, activation='relu'),\n",
        "#     tf.keras.layers.Dropout(0.4),\n",
        "#     tf.keras.layers.Dense(5, activation='softmax')\n",
        "# ])\n",
        "# # opt = tf.keras.optimizers.Adam(learning_rate=0.01)\n",
        "# model.compile(loss='categorical_crossentropy',optimizer=\"adam\",metrics=['accuracy'])"
      ],
      "execution_count": 529,
      "outputs": []
    },
    {
      "cell_type": "code",
      "metadata": {
        "id": "cxWOdexcZiqv"
      },
      "source": [
        "#make folder model\n",
        "model._name = \"Covid_Sentiment_LSTM_undersampling\"\n",
        "model_save_path = \"./models/\"\n",
        "if not os.path.exists(model_save_path):\n",
        "    os.mkdir(model_save_path)"
      ],
      "execution_count": 558,
      "outputs": []
    },
    {
      "cell_type": "code",
      "metadata": {
        "id": "uPDZkT2Bnpna",
        "colab": {
          "base_uri": "https://localhost:8080/"
        },
        "outputId": "ed0eebf6-4e7e-4bc4-f575-81b3a66e817e"
      },
      "source": [
        "model.summary()"
      ],
      "execution_count": 559,
      "outputs": [
        {
          "output_type": "stream",
          "text": [
            "Model: \"Covid_Sentiment_LSTM_undersampling\"\n",
            "_________________________________________________________________\n",
            "Layer (type)                 Output Shape              Param #   \n",
            "=================================================================\n",
            "embedding_33 (Embedding)     (None, 32, 64)            3119104   \n",
            "_________________________________________________________________\n",
            "lstm_35 (LSTM)               (None, 512)               1181696   \n",
            "_________________________________________________________________\n",
            "dense_96 (Dense)             (None, 256)               131328    \n",
            "_________________________________________________________________\n",
            "dense_97 (Dense)             (None, 128)               32896     \n",
            "_________________________________________________________________\n",
            "dense_98 (Dense)             (None, 32)                4128      \n",
            "_________________________________________________________________\n",
            "dense_99 (Dense)             (None, 3)                 99        \n",
            "=================================================================\n",
            "Total params: 4,469,251\n",
            "Trainable params: 4,469,251\n",
            "Non-trainable params: 0\n",
            "_________________________________________________________________\n"
          ],
          "name": "stdout"
        }
      ]
    },
    {
      "cell_type": "code",
      "metadata": {
        "id": "kJI5t_cm9ewW"
      },
      "source": [
        "#Terminates training when vall_acc > 90%\n",
        "class TerminateOnBaseline(Callback):\n",
        "    \"\"\"Callback that terminates training when val_acc reaches a specified baseline\n",
        "    \"\"\"\n",
        "    def __init__(self, monitor='val_accuracy', baseline=0.9):\n",
        "        super(TerminateOnBaseline, self).__init__()\n",
        "        self.monitor = monitor\n",
        "        self.baseline = baseline\n",
        "\n",
        "    def on_epoch_end(self, epoch, logs=None):\n",
        "        logs = logs or {}\n",
        "        acc = logs.get(self.monitor)\n",
        "        if acc is not None:\n",
        "            if acc >= self.baseline:\n",
        "                print('Epoch %d: Reached baseline, terminating training' % (epoch))\n",
        "                self.model.stop_training = True"
      ],
      "execution_count": 560,
      "outputs": []
    },
    {
      "cell_type": "code",
      "metadata": {
        "id": "VVBbKWqXnl4Z"
      },
      "source": [
        "#Callbacks\n",
        "\n",
        "checkpoint = ModelCheckpoint(os.path.join(model_save_path, model.name+\".h5\"), save_weights_only=True,\n",
        "                             verbose=1, save_best_only=True, monitor='val_accuracy', mode='max')\n",
        "# early_stop = EarlyStopping(patience=7, verbose=1, monitor='val_accuracy', mode='max')"
      ],
      "execution_count": 561,
      "outputs": []
    },
    {
      "cell_type": "code",
      "metadata": {
        "colab": {
          "base_uri": "https://localhost:8080/"
        },
        "id": "mpzLT78gaKf9",
        "outputId": "ef4f24f8-b210-4835-f147-8bd9dd039471"
      },
      "source": [
        "#Training\n",
        "\n",
        "num_epochs = 10\n",
        "history = model.fit(X_train, \n",
        "                    y_train, \n",
        "                    epochs=num_epochs,\n",
        "                    steps_per_epoch = len(X_train)//128,\n",
        "                    validation_split=0.2, \n",
        "                    verbose=1,\n",
        "                    callbacks=[checkpoint, TerminateOnBaseline()])"
      ],
      "execution_count": 562,
      "outputs": [
        {
          "output_type": "stream",
          "text": [
            "Epoch 1/10\n",
            "321/321 [==============================] - 286s 886ms/step - loss: 0.9265 - accuracy: 0.5148 - val_loss: 0.7447 - val_accuracy: 0.6960\n",
            "\n",
            "Epoch 00001: val_accuracy improved from -inf to 0.69597, saving model to ./models/Covid_Sentiment_LSTM_undersampling.h5\n",
            "Epoch 2/10\n",
            "321/321 [==============================] - 285s 887ms/step - loss: 0.5195 - accuracy: 0.8088 - val_loss: 0.5641 - val_accuracy: 0.7975\n",
            "\n",
            "Epoch 00002: val_accuracy improved from 0.69597 to 0.79752, saving model to ./models/Covid_Sentiment_LSTM_undersampling.h5\n",
            "Epoch 3/10\n",
            "321/321 [==============================] - 283s 881ms/step - loss: 0.3023 - accuracy: 0.9040 - val_loss: 0.5693 - val_accuracy: 0.8125\n",
            "\n",
            "Epoch 00003: val_accuracy improved from 0.79752 to 0.81248, saving model to ./models/Covid_Sentiment_LSTM_undersampling.h5\n",
            "Epoch 4/10\n",
            "321/321 [==============================] - 282s 878ms/step - loss: 0.2039 - accuracy: 0.9386 - val_loss: 0.7317 - val_accuracy: 0.8012\n",
            "\n",
            "Epoch 00004: val_accuracy did not improve from 0.81248\n",
            "Epoch 5/10\n",
            "321/321 [==============================] - 281s 876ms/step - loss: 0.1538 - accuracy: 0.9539 - val_loss: 0.6980 - val_accuracy: 0.7978\n",
            "\n",
            "Epoch 00005: val_accuracy did not improve from 0.81248\n",
            "Epoch 6/10\n",
            "321/321 [==============================] - 282s 878ms/step - loss: 0.1198 - accuracy: 0.9644 - val_loss: 0.7329 - val_accuracy: 0.8021\n",
            "\n",
            "Epoch 00006: val_accuracy did not improve from 0.81248\n",
            "Epoch 7/10\n",
            "321/321 [==============================] - 286s 892ms/step - loss: 0.1014 - accuracy: 0.9703 - val_loss: 0.8561 - val_accuracy: 0.7866\n",
            "\n",
            "Epoch 00007: val_accuracy did not improve from 0.81248\n",
            "Epoch 8/10\n",
            "321/321 [==============================] - 283s 881ms/step - loss: 0.0813 - accuracy: 0.9769 - val_loss: 0.8662 - val_accuracy: 0.7785\n",
            "\n",
            "Epoch 00008: val_accuracy did not improve from 0.81248\n",
            "Epoch 9/10\n",
            "321/321 [==============================] - 287s 893ms/step - loss: 0.0651 - accuracy: 0.9818 - val_loss: 1.0085 - val_accuracy: 0.7912\n",
            "\n",
            "Epoch 00009: val_accuracy did not improve from 0.81248\n",
            "Epoch 10/10\n",
            "311/321 [============================>.] - ETA: 8s - loss: 0.0551 - accuracy: 0.9853WARNING:tensorflow:Your input ran out of data; interrupting training. Make sure that your dataset or generator can generate at least `steps_per_epoch * epochs` batches (in this case, 3210 batches). You may need to use the repeat() function when building your dataset.\n",
            "321/321 [==============================] - 274s 854ms/step - loss: 0.0551 - accuracy: 0.9853 - val_loss: 0.9321 - val_accuracy: 0.7830\n",
            "\n",
            "Epoch 00010: val_accuracy did not improve from 0.81248\n"
          ],
          "name": "stdout"
        }
      ]
    },
    {
      "cell_type": "markdown",
      "metadata": {
        "id": "C9NK-LyNm4bc"
      },
      "source": [
        "**Plotting Training Result**"
      ]
    },
    {
      "cell_type": "code",
      "metadata": {
        "colab": {
          "base_uri": "https://localhost:8080/",
          "height": 295
        },
        "id": "Ah0OmK1FCqNp",
        "outputId": "3688c331-01be-42b9-b4b4-2e6bf77442bc"
      },
      "source": [
        "acc = history.history[\"accuracy\"]\n",
        "val_acc = history.history[\"val_accuracy\"]\n",
        "epochs = range(1, len(val_acc) + 1)\n",
        "\n",
        "plt.plot(epochs, acc, color=\"blue\", label=\"training acc\")\n",
        "plt.plot(epochs, val_acc, color=\"red\", label=\"training val_acc\")\n",
        "plt.legend()\n",
        "plt.xlabel(\"epoch\")\n",
        "plt.ylabel(\"accuracy\")\n",
        "plt.title(\"Training and Validation Accuracy\")\n",
        "# plt.savefig(f\"./balanced/models/{model._name}_f1_training_plot.jpg\")\n",
        "plt.show()"
      ],
      "execution_count": 563,
      "outputs": [
        {
          "output_type": "display_data",
          "data": {
            "image/png": "[encoded data removed]",
            "text/plain": [
              "<Figure size 432x288 with 1 Axes>"
            ]
          },
          "metadata": {
            "tags": [],
            "needs_background": "light"
          }
        }
      ]
    },
    {
      "cell_type": "code",
      "metadata": {
        "colab": {
          "base_uri": "https://localhost:8080/",
          "height": 295
        },
        "id": "3se8fAEZg3Kp",
        "outputId": "bed8f1b2-ac1c-4b35-c1a8-86104aa154fe"
      },
      "source": [
        "loss = history.history[\"loss\"]\n",
        "val_loss = history.history[\"val_loss\"]\n",
        "epochs = range(1, len(val_acc) + 1)\n",
        "\n",
        "plt.plot(epochs, loss, color=\"blue\", label=\"training loss\")\n",
        "plt.plot(epochs, val_loss, color=\"red\", label=\"training val_loss\")\n",
        "\n",
        "plt.legend()\n",
        "plt.xlabel(\"epoch\")\n",
        "plt.ylabel(\"loss\")\n",
        "plt.title(\"Training and Validation Loss\")\n",
        "\n",
        "plt.show()"
      ],
      "execution_count": 564,
      "outputs": [
        {
          "output_type": "display_data",
          "data": {
            "image/png": "[encoded data removed]",
            "text/plain": [
              "<Figure size 432x288 with 1 Axes>"
            ]
          },
          "metadata": {
            "tags": [],
            "needs_background": "light"
          }
        }
      ]
    }
  ]
}