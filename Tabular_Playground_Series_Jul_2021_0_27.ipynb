{
  "nbformat": 4,
  "nbformat_minor": 0,
  "metadata": {
    "colab": {
      "name": "Tabular Playground Series - Jul 2021 0.27",
      "provenance": []
    },
    "kernelspec": {
      "name": "python3",
      "display_name": "Python 3"
    },
    "language_info": {
      "name": "python"
    }
  },
  "cells": [
    {
      "cell_type": "code",
      "metadata": {
        "id": "-gK5FBN-ZmON"
      },
      "source": [
        "from google.colab import files, drive\n",
        "import os\n",
        "import pandas as pd\n",
        "import numpy as np\n",
        "\n",
        "import matplotlib.pyplot as plt\n",
        "import seaborn as sns\n",
        "\n",
        "import tensorflow as tf\n",
        "import keras\n",
        "from sklearn.preprocessing import MinMaxScaler"
      ],
      "execution_count": 249,
      "outputs": []
    },
    {
      "cell_type": "code",
      "metadata": {
        "colab": {
          "base_uri": "https://localhost:8080/"
        },
        "id": "-sMPlpGuZrGD",
        "outputId": "649956da-4bc6-4db0-b269-ab39dafb911b"
      },
      "source": [
        "drive.mount('/content/drive')\n",
        "os.chdir('/content/drive/My Drive/Kaggle/kaggle_jul')"
      ],
      "execution_count": 250,
      "outputs": [
        {
          "output_type": "stream",
          "text": [
            "Drive already mounted at /content/drive; to attempt to forcibly remount, call drive.mount(\"/content/drive\", force_remount=True).\n"
          ],
          "name": "stdout"
        }
      ]
    },
    {
      "cell_type": "code",
      "metadata": {
        "id": "-tEeyATFaLKo"
      },
      "source": [
        "df_train = pd.read_csv(\"train.csv\")"
      ],
      "execution_count": 251,
      "outputs": []
    },
    {
      "cell_type": "code",
      "metadata": {
        "colab": {
          "base_uri": "https://localhost:8080/",
          "height": 422
        },
        "id": "GtPN7N_ZbgVa",
        "outputId": "b7a68a7c-9e7d-4a50-fc1b-e4192aec6649"
      },
      "source": [
        "df_train"
      ],
      "execution_count": 252,
      "outputs": [
        {
          "output_type": "execute_result",
          "data": {
            "text/html": [
              "<div>\n",
              "<style scoped>\n",
              "    .dataframe tbody tr th:only-of-type {\n",
              "        vertical-align: middle;\n",
              "    }\n",
              "\n",
              "    .dataframe tbody tr th {\n",
              "        vertical-align: top;\n",
              "    }\n",
              "\n",
              "    .dataframe thead th {\n",
              "        text-align: right;\n",
              "    }\n",
              "</style>\n",
              "<table border=\"1\" class=\"dataframe\">\n",
              "  <thead>\n",
              "    <tr style=\"text-align: right;\">\n",
              "      <th></th>\n",
              "      <th>date_time</th>\n",
              "      <th>deg_C</th>\n",
              "      <th>relative_humidity</th>\n",
              "      <th>absolute_humidity</th>\n",
              "      <th>sensor_1</th>\n",
              "      <th>sensor_2</th>\n",
              "      <th>sensor_3</th>\n",
              "      <th>sensor_4</th>\n",
              "      <th>sensor_5</th>\n",
              "      <th>target_carbon_monoxide</th>\n",
              "      <th>target_benzene</th>\n",
              "      <th>target_nitrogen_oxides</th>\n",
              "    </tr>\n",
              "  </thead>\n",
              "  <tbody>\n",
              "    <tr>\n",
              "      <th>0</th>\n",
              "      <td>2010-03-10 18:00:00</td>\n",
              "      <td>13.1</td>\n",
              "      <td>46.0</td>\n",
              "      <td>0.7578</td>\n",
              "      <td>1387.2</td>\n",
              "      <td>1087.8</td>\n",
              "      <td>1056.0</td>\n",
              "      <td>1742.8</td>\n",
              "      <td>1293.4</td>\n",
              "      <td>2.5</td>\n",
              "      <td>12.0</td>\n",
              "      <td>167.7</td>\n",
              "    </tr>\n",
              "    <tr>\n",
              "      <th>1</th>\n",
              "      <td>2010-03-10 19:00:00</td>\n",
              "      <td>13.2</td>\n",
              "      <td>45.3</td>\n",
              "      <td>0.7255</td>\n",
              "      <td>1279.1</td>\n",
              "      <td>888.2</td>\n",
              "      <td>1197.5</td>\n",
              "      <td>1449.9</td>\n",
              "      <td>1010.9</td>\n",
              "      <td>2.1</td>\n",
              "      <td>9.9</td>\n",
              "      <td>98.9</td>\n",
              "    </tr>\n",
              "    <tr>\n",
              "      <th>2</th>\n",
              "      <td>2010-03-10 20:00:00</td>\n",
              "      <td>12.6</td>\n",
              "      <td>56.2</td>\n",
              "      <td>0.7502</td>\n",
              "      <td>1331.9</td>\n",
              "      <td>929.6</td>\n",
              "      <td>1060.2</td>\n",
              "      <td>1586.1</td>\n",
              "      <td>1117.0</td>\n",
              "      <td>2.2</td>\n",
              "      <td>9.2</td>\n",
              "      <td>127.1</td>\n",
              "    </tr>\n",
              "    <tr>\n",
              "      <th>3</th>\n",
              "      <td>2010-03-10 21:00:00</td>\n",
              "      <td>11.0</td>\n",
              "      <td>62.4</td>\n",
              "      <td>0.7867</td>\n",
              "      <td>1321.0</td>\n",
              "      <td>929.0</td>\n",
              "      <td>1102.9</td>\n",
              "      <td>1536.5</td>\n",
              "      <td>1263.2</td>\n",
              "      <td>2.2</td>\n",
              "      <td>9.7</td>\n",
              "      <td>177.2</td>\n",
              "    </tr>\n",
              "    <tr>\n",
              "      <th>4</th>\n",
              "      <td>2010-03-10 22:00:00</td>\n",
              "      <td>11.9</td>\n",
              "      <td>59.0</td>\n",
              "      <td>0.7888</td>\n",
              "      <td>1272.0</td>\n",
              "      <td>852.7</td>\n",
              "      <td>1180.9</td>\n",
              "      <td>1415.5</td>\n",
              "      <td>1132.2</td>\n",
              "      <td>1.5</td>\n",
              "      <td>6.4</td>\n",
              "      <td>121.8</td>\n",
              "    </tr>\n",
              "    <tr>\n",
              "      <th>...</th>\n",
              "      <td>...</td>\n",
              "      <td>...</td>\n",
              "      <td>...</td>\n",
              "      <td>...</td>\n",
              "      <td>...</td>\n",
              "      <td>...</td>\n",
              "      <td>...</td>\n",
              "      <td>...</td>\n",
              "      <td>...</td>\n",
              "      <td>...</td>\n",
              "      <td>...</td>\n",
              "      <td>...</td>\n",
              "    </tr>\n",
              "    <tr>\n",
              "      <th>7106</th>\n",
              "      <td>2010-12-31 20:00:00</td>\n",
              "      <td>9.2</td>\n",
              "      <td>32.0</td>\n",
              "      <td>0.3871</td>\n",
              "      <td>1000.5</td>\n",
              "      <td>811.2</td>\n",
              "      <td>873.0</td>\n",
              "      <td>909.0</td>\n",
              "      <td>910.5</td>\n",
              "      <td>1.3</td>\n",
              "      <td>5.1</td>\n",
              "      <td>191.1</td>\n",
              "    </tr>\n",
              "    <tr>\n",
              "      <th>7107</th>\n",
              "      <td>2010-12-31 21:00:00</td>\n",
              "      <td>9.1</td>\n",
              "      <td>33.2</td>\n",
              "      <td>0.3766</td>\n",
              "      <td>1022.7</td>\n",
              "      <td>790.0</td>\n",
              "      <td>951.6</td>\n",
              "      <td>912.9</td>\n",
              "      <td>903.4</td>\n",
              "      <td>1.4</td>\n",
              "      <td>5.8</td>\n",
              "      <td>221.3</td>\n",
              "    </tr>\n",
              "    <tr>\n",
              "      <th>7108</th>\n",
              "      <td>2010-12-31 22:00:00</td>\n",
              "      <td>9.6</td>\n",
              "      <td>34.6</td>\n",
              "      <td>0.4310</td>\n",
              "      <td>1044.4</td>\n",
              "      <td>767.3</td>\n",
              "      <td>861.9</td>\n",
              "      <td>889.2</td>\n",
              "      <td>1159.1</td>\n",
              "      <td>1.6</td>\n",
              "      <td>5.2</td>\n",
              "      <td>227.4</td>\n",
              "    </tr>\n",
              "    <tr>\n",
              "      <th>7109</th>\n",
              "      <td>2010-12-31 23:00:00</td>\n",
              "      <td>8.0</td>\n",
              "      <td>40.7</td>\n",
              "      <td>0.4085</td>\n",
              "      <td>952.8</td>\n",
              "      <td>691.9</td>\n",
              "      <td>908.5</td>\n",
              "      <td>917.0</td>\n",
              "      <td>1206.3</td>\n",
              "      <td>1.5</td>\n",
              "      <td>4.6</td>\n",
              "      <td>199.8</td>\n",
              "    </tr>\n",
              "    <tr>\n",
              "      <th>7110</th>\n",
              "      <td>2011-01-01 00:00:00</td>\n",
              "      <td>8.0</td>\n",
              "      <td>41.3</td>\n",
              "      <td>0.4375</td>\n",
              "      <td>1108.8</td>\n",
              "      <td>745.7</td>\n",
              "      <td>797.1</td>\n",
              "      <td>880.0</td>\n",
              "      <td>1273.1</td>\n",
              "      <td>1.4</td>\n",
              "      <td>4.1</td>\n",
              "      <td>186.5</td>\n",
              "    </tr>\n",
              "  </tbody>\n",
              "</table>\n",
              "<p>7111 rows × 12 columns</p>\n",
              "</div>"
            ],
            "text/plain": [
              "                date_time  deg_C  ...  target_benzene  target_nitrogen_oxides\n",
              "0     2010-03-10 18:00:00   13.1  ...            12.0                   167.7\n",
              "1     2010-03-10 19:00:00   13.2  ...             9.9                    98.9\n",
              "2     2010-03-10 20:00:00   12.6  ...             9.2                   127.1\n",
              "3     2010-03-10 21:00:00   11.0  ...             9.7                   177.2\n",
              "4     2010-03-10 22:00:00   11.9  ...             6.4                   121.8\n",
              "...                   ...    ...  ...             ...                     ...\n",
              "7106  2010-12-31 20:00:00    9.2  ...             5.1                   191.1\n",
              "7107  2010-12-31 21:00:00    9.1  ...             5.8                   221.3\n",
              "7108  2010-12-31 22:00:00    9.6  ...             5.2                   227.4\n",
              "7109  2010-12-31 23:00:00    8.0  ...             4.6                   199.8\n",
              "7110  2011-01-01 00:00:00    8.0  ...             4.1                   186.5\n",
              "\n",
              "[7111 rows x 12 columns]"
            ]
          },
          "metadata": {
            "tags": []
          },
          "execution_count": 252
        }
      ]
    },
    {
      "cell_type": "code",
      "metadata": {
        "colab": {
          "base_uri": "https://localhost:8080/",
          "height": 1000
        },
        "id": "jT2s2G8Sb6yv",
        "outputId": "ca7bcf25-b8cc-4c64-f3d0-cc3f2b539388"
      },
      "source": [
        "fig, axes = plt.subplots(3, figsize=(5,12))\n",
        "x = 0\n",
        "for col in df_train.columns[9:]:\n",
        "  sns.distplot(df_train[col], ax = axes[x])\n",
        "  # axes[x][y].title(col)\n",
        "  x += 1\n",
        "  # if x == 0:\n",
        "  #   y += 1\n",
        "plt.tight_layout()\n",
        "  "
      ],
      "execution_count": 253,
      "outputs": [
        {
          "output_type": "stream",
          "text": [
            "/usr/local/lib/python3.7/dist-packages/seaborn/distributions.py:2557: FutureWarning: `distplot` is a deprecated function and will be removed in a future version. Please adapt your code to use either `displot` (a figure-level function with similar flexibility) or `histplot` (an axes-level function for histograms).\n",
            "  warnings.warn(msg, FutureWarning)\n",
            "/usr/local/lib/python3.7/dist-packages/seaborn/distributions.py:2557: FutureWarning: `distplot` is a deprecated function and will be removed in a future version. Please adapt your code to use either `displot` (a figure-level function with similar flexibility) or `histplot` (an axes-level function for histograms).\n",
            "  warnings.warn(msg, FutureWarning)\n",
            "/usr/local/lib/python3.7/dist-packages/seaborn/distributions.py:2557: FutureWarning: `distplot` is a deprecated function and will be removed in a future version. Please adapt your code to use either `displot` (a figure-level function with similar flexibility) or `histplot` (an axes-level function for histograms).\n",
            "  warnings.warn(msg, FutureWarning)\n"
          ],
          "name": "stderr"
        },
        {
          "output_type": "display_data",
          "data": {
            "image/png": "[encoded data removed]",
            "text/plain": [
              "<Figure size 360x864 with 3 Axes>"
            ]
          },
          "metadata": {
            "tags": [],
            "needs_background": "light"
          }
        }
      ]
    },
    {
      "cell_type": "code",
      "metadata": {
        "colab": {
          "base_uri": "https://localhost:8080/",
          "height": 1000
        },
        "id": "whPurY4icM9w",
        "outputId": "65acd950-a7fb-4928-fee1-10994a6ef056"
      },
      "source": [
        "fig, axes = plt.subplots(3,3, figsize=(12,12))\n",
        "x = 0\n",
        "y = 0\n",
        "for col in df_train.columns[1:9]:\n",
        "  sns.distplot(df_train[col], ax = axes[y][x])\n",
        "  # axes[x][y].title(col)\n",
        "  x = (x + 1) % 3\n",
        "  if x == 0:\n",
        "    y += 1\n",
        "plt.tight_layout()\n",
        "  "
      ],
      "execution_count": 254,
      "outputs": [
        {
          "output_type": "stream",
          "text": [
            "/usr/local/lib/python3.7/dist-packages/seaborn/distributions.py:2557: FutureWarning: `distplot` is a deprecated function and will be removed in a future version. Please adapt your code to use either `displot` (a figure-level function with similar flexibility) or `histplot` (an axes-level function for histograms).\n",
            "  warnings.warn(msg, FutureWarning)\n",
            "/usr/local/lib/python3.7/dist-packages/seaborn/distributions.py:2557: FutureWarning: `distplot` is a deprecated function and will be removed in a future version. Please adapt your code to use either `displot` (a figure-level function with similar flexibility) or `histplot` (an axes-level function for histograms).\n",
            "  warnings.warn(msg, FutureWarning)\n",
            "/usr/local/lib/python3.7/dist-packages/seaborn/distributions.py:2557: FutureWarning: `distplot` is a deprecated function and will be removed in a future version. Please adapt your code to use either `displot` (a figure-level function with similar flexibility) or `histplot` (an axes-level function for histograms).\n",
            "  warnings.warn(msg, FutureWarning)\n",
            "/usr/local/lib/python3.7/dist-packages/seaborn/distributions.py:2557: FutureWarning: `distplot` is a deprecated function and will be removed in a future version. Please adapt your code to use either `displot` (a figure-level function with similar flexibility) or `histplot` (an axes-level function for histograms).\n",
            "  warnings.warn(msg, FutureWarning)\n",
            "/usr/local/lib/python3.7/dist-packages/seaborn/distributions.py:2557: FutureWarning: `distplot` is a deprecated function and will be removed in a future version. Please adapt your code to use either `displot` (a figure-level function with similar flexibility) or `histplot` (an axes-level function for histograms).\n",
            "  warnings.warn(msg, FutureWarning)\n",
            "/usr/local/lib/python3.7/dist-packages/seaborn/distributions.py:2557: FutureWarning: `distplot` is a deprecated function and will be removed in a future version. Please adapt your code to use either `displot` (a figure-level function with similar flexibility) or `histplot` (an axes-level function for histograms).\n",
            "  warnings.warn(msg, FutureWarning)\n",
            "/usr/local/lib/python3.7/dist-packages/seaborn/distributions.py:2557: FutureWarning: `distplot` is a deprecated function and will be removed in a future version. Please adapt your code to use either `displot` (a figure-level function with similar flexibility) or `histplot` (an axes-level function for histograms).\n",
            "  warnings.warn(msg, FutureWarning)\n",
            "/usr/local/lib/python3.7/dist-packages/seaborn/distributions.py:2557: FutureWarning: `distplot` is a deprecated function and will be removed in a future version. Please adapt your code to use either `displot` (a figure-level function with similar flexibility) or `histplot` (an axes-level function for histograms).\n",
            "  warnings.warn(msg, FutureWarning)\n"
          ],
          "name": "stderr"
        },
        {
          "output_type": "display_data",
          "data": {
            "image/png": "[encoded data removed]",
            "text/plain": [
              "<Figure size 864x864 with 9 Axes>"
            ]
          },
          "metadata": {
            "tags": [],
            "needs_background": "light"
          }
        }
      ]
    },
    {
      "cell_type": "code",
      "metadata": {
        "id": "6b6pSXcweMUM"
      },
      "source": [
        "feature_scaler = MinMaxScaler()\n",
        "label_scaler = MinMaxScaler()\n",
        "scaled_features = feature_scaler.fit_transform(df_train.iloc[:, 1:9])\n",
        "scaled_labels = label_scaler.fit_transform(df_train.iloc[:, 9:])"
      ],
      "execution_count": 255,
      "outputs": []
    },
    {
      "cell_type": "code",
      "metadata": {
        "id": "bjRsEfuNgk5_"
      },
      "source": [
        "df_train.iloc[:, 1:9] = scaled_features\n",
        "df_train.iloc[:, 9:] = scaled_labels"
      ],
      "execution_count": 256,
      "outputs": []
    },
    {
      "cell_type": "code",
      "metadata": {
        "id": "WGIQ0TaBpmKR"
      },
      "source": [
        "df_train.date_time = df_train.date_time.apply(lambda x: pd.to_datetime(x))"
      ],
      "execution_count": 257,
      "outputs": []
    },
    {
      "cell_type": "code",
      "metadata": {
        "colab": {
          "base_uri": "https://localhost:8080/",
          "height": 422
        },
        "id": "Fwwv8hypqESN",
        "outputId": "f4f4fb0d-60ea-4037-9da3-50adc14dedc0"
      },
      "source": [
        "df_train"
      ],
      "execution_count": 258,
      "outputs": [
        {
          "output_type": "execute_result",
          "data": {
            "text/html": [
              "<div>\n",
              "<style scoped>\n",
              "    .dataframe tbody tr th:only-of-type {\n",
              "        vertical-align: middle;\n",
              "    }\n",
              "\n",
              "    .dataframe tbody tr th {\n",
              "        vertical-align: top;\n",
              "    }\n",
              "\n",
              "    .dataframe thead th {\n",
              "        text-align: right;\n",
              "    }\n",
              "</style>\n",
              "<table border=\"1\" class=\"dataframe\">\n",
              "  <thead>\n",
              "    <tr style=\"text-align: right;\">\n",
              "      <th></th>\n",
              "      <th>date_time</th>\n",
              "      <th>deg_C</th>\n",
              "      <th>relative_humidity</th>\n",
              "      <th>absolute_humidity</th>\n",
              "      <th>sensor_1</th>\n",
              "      <th>sensor_2</th>\n",
              "      <th>sensor_3</th>\n",
              "      <th>sensor_4</th>\n",
              "      <th>sensor_5</th>\n",
              "      <th>target_carbon_monoxide</th>\n",
              "      <th>target_benzene</th>\n",
              "      <th>target_nitrogen_oxides</th>\n",
              "    </tr>\n",
              "  </thead>\n",
              "  <tbody>\n",
              "    <tr>\n",
              "      <th>0</th>\n",
              "      <td>2010-03-10 18:00:00</td>\n",
              "      <td>0.263393</td>\n",
              "      <td>0.452991</td>\n",
              "      <td>0.275071</td>\n",
              "      <td>0.522411</td>\n",
              "      <td>0.373362</td>\n",
              "      <td>0.330291</td>\n",
              "      <td>0.504003</td>\n",
              "      <td>0.446745</td>\n",
              "      <td>0.193548</td>\n",
              "      <td>0.187107</td>\n",
              "      <td>0.112758</td>\n",
              "    </tr>\n",
              "    <tr>\n",
              "      <th>1</th>\n",
              "      <td>2010-03-10 19:00:00</td>\n",
              "      <td>0.265625</td>\n",
              "      <td>0.444444</td>\n",
              "      <td>0.259177</td>\n",
              "      <td>0.448774</td>\n",
              "      <td>0.270401</td>\n",
              "      <td>0.392990</td>\n",
              "      <td>0.379940</td>\n",
              "      <td>0.326630</td>\n",
              "      <td>0.161290</td>\n",
              "      <td>0.154088</td>\n",
              "      <td>0.065968</td>\n",
              "    </tr>\n",
              "    <tr>\n",
              "      <th>2</th>\n",
              "      <td>2010-03-10 20:00:00</td>\n",
              "      <td>0.252232</td>\n",
              "      <td>0.577534</td>\n",
              "      <td>0.271332</td>\n",
              "      <td>0.484741</td>\n",
              "      <td>0.291757</td>\n",
              "      <td>0.332152</td>\n",
              "      <td>0.437630</td>\n",
              "      <td>0.371742</td>\n",
              "      <td>0.169355</td>\n",
              "      <td>0.143082</td>\n",
              "      <td>0.085147</td>\n",
              "    </tr>\n",
              "    <tr>\n",
              "      <th>3</th>\n",
              "      <td>2010-03-10 21:00:00</td>\n",
              "      <td>0.216518</td>\n",
              "      <td>0.653236</td>\n",
              "      <td>0.289292</td>\n",
              "      <td>0.477316</td>\n",
              "      <td>0.291447</td>\n",
              "      <td>0.351072</td>\n",
              "      <td>0.416621</td>\n",
              "      <td>0.433905</td>\n",
              "      <td>0.169355</td>\n",
              "      <td>0.150943</td>\n",
              "      <td>0.119219</td>\n",
              "    </tr>\n",
              "    <tr>\n",
              "      <th>4</th>\n",
              "      <td>2010-03-10 22:00:00</td>\n",
              "      <td>0.236607</td>\n",
              "      <td>0.611722</td>\n",
              "      <td>0.290326</td>\n",
              "      <td>0.443937</td>\n",
              "      <td>0.252089</td>\n",
              "      <td>0.385635</td>\n",
              "      <td>0.365369</td>\n",
              "      <td>0.378205</td>\n",
              "      <td>0.112903</td>\n",
              "      <td>0.099057</td>\n",
              "      <td>0.081542</td>\n",
              "    </tr>\n",
              "    <tr>\n",
              "      <th>...</th>\n",
              "      <td>...</td>\n",
              "      <td>...</td>\n",
              "      <td>...</td>\n",
              "      <td>...</td>\n",
              "      <td>...</td>\n",
              "      <td>...</td>\n",
              "      <td>...</td>\n",
              "      <td>...</td>\n",
              "      <td>...</td>\n",
              "      <td>...</td>\n",
              "      <td>...</td>\n",
              "      <td>...</td>\n",
              "    </tr>\n",
              "    <tr>\n",
              "      <th>7106</th>\n",
              "      <td>2010-12-31 20:00:00</td>\n",
              "      <td>0.176339</td>\n",
              "      <td>0.282051</td>\n",
              "      <td>0.092658</td>\n",
              "      <td>0.258992</td>\n",
              "      <td>0.230682</td>\n",
              "      <td>0.249202</td>\n",
              "      <td>0.150832</td>\n",
              "      <td>0.283941</td>\n",
              "      <td>0.096774</td>\n",
              "      <td>0.078616</td>\n",
              "      <td>0.128672</td>\n",
              "    </tr>\n",
              "    <tr>\n",
              "      <th>7107</th>\n",
              "      <td>2010-12-31 21:00:00</td>\n",
              "      <td>0.174107</td>\n",
              "      <td>0.296703</td>\n",
              "      <td>0.087491</td>\n",
              "      <td>0.274114</td>\n",
              "      <td>0.219746</td>\n",
              "      <td>0.284030</td>\n",
              "      <td>0.152484</td>\n",
              "      <td>0.280922</td>\n",
              "      <td>0.104839</td>\n",
              "      <td>0.089623</td>\n",
              "      <td>0.149211</td>\n",
              "    </tr>\n",
              "    <tr>\n",
              "      <th>7108</th>\n",
              "      <td>2010-12-31 22:00:00</td>\n",
              "      <td>0.185268</td>\n",
              "      <td>0.313797</td>\n",
              "      <td>0.114260</td>\n",
              "      <td>0.288896</td>\n",
              "      <td>0.208037</td>\n",
              "      <td>0.244284</td>\n",
              "      <td>0.142446</td>\n",
              "      <td>0.389642</td>\n",
              "      <td>0.120968</td>\n",
              "      <td>0.080189</td>\n",
              "      <td>0.153360</td>\n",
              "    </tr>\n",
              "    <tr>\n",
              "      <th>7109</th>\n",
              "      <td>2010-12-31 23:00:00</td>\n",
              "      <td>0.149554</td>\n",
              "      <td>0.388278</td>\n",
              "      <td>0.103189</td>\n",
              "      <td>0.226499</td>\n",
              "      <td>0.169143</td>\n",
              "      <td>0.264933</td>\n",
              "      <td>0.154221</td>\n",
              "      <td>0.409711</td>\n",
              "      <td>0.112903</td>\n",
              "      <td>0.070755</td>\n",
              "      <td>0.134589</td>\n",
              "    </tr>\n",
              "    <tr>\n",
              "      <th>7110</th>\n",
              "      <td>2011-01-01 00:00:00</td>\n",
              "      <td>0.149554</td>\n",
              "      <td>0.395604</td>\n",
              "      <td>0.117459</td>\n",
              "      <td>0.332766</td>\n",
              "      <td>0.196895</td>\n",
              "      <td>0.215571</td>\n",
              "      <td>0.138549</td>\n",
              "      <td>0.438114</td>\n",
              "      <td>0.104839</td>\n",
              "      <td>0.062893</td>\n",
              "      <td>0.125544</td>\n",
              "    </tr>\n",
              "  </tbody>\n",
              "</table>\n",
              "<p>7111 rows × 12 columns</p>\n",
              "</div>"
            ],
            "text/plain": [
              "               date_time     deg_C  ...  target_benzene  target_nitrogen_oxides\n",
              "0    2010-03-10 18:00:00  0.263393  ...        0.187107                0.112758\n",
              "1    2010-03-10 19:00:00  0.265625  ...        0.154088                0.065968\n",
              "2    2010-03-10 20:00:00  0.252232  ...        0.143082                0.085147\n",
              "3    2010-03-10 21:00:00  0.216518  ...        0.150943                0.119219\n",
              "4    2010-03-10 22:00:00  0.236607  ...        0.099057                0.081542\n",
              "...                  ...       ...  ...             ...                     ...\n",
              "7106 2010-12-31 20:00:00  0.176339  ...        0.078616                0.128672\n",
              "7107 2010-12-31 21:00:00  0.174107  ...        0.089623                0.149211\n",
              "7108 2010-12-31 22:00:00  0.185268  ...        0.080189                0.153360\n",
              "7109 2010-12-31 23:00:00  0.149554  ...        0.070755                0.134589\n",
              "7110 2011-01-01 00:00:00  0.149554  ...        0.062893                0.125544\n",
              "\n",
              "[7111 rows x 12 columns]"
            ]
          },
          "metadata": {
            "tags": []
          },
          "execution_count": 258
        }
      ]
    },
    {
      "cell_type": "code",
      "metadata": {
        "colab": {
          "base_uri": "https://localhost:8080/",
          "height": 422
        },
        "id": "saB_vKvTsj-p",
        "outputId": "2589e85c-f262-4f86-c408-a7d8f4e0f967"
      },
      "source": [
        "df_test = pd.read_csv(\"test.csv\")\n",
        "df_test\n"
      ],
      "execution_count": 259,
      "outputs": [
        {
          "output_type": "execute_result",
          "data": {
            "text/html": [
              "<div>\n",
              "<style scoped>\n",
              "    .dataframe tbody tr th:only-of-type {\n",
              "        vertical-align: middle;\n",
              "    }\n",
              "\n",
              "    .dataframe tbody tr th {\n",
              "        vertical-align: top;\n",
              "    }\n",
              "\n",
              "    .dataframe thead th {\n",
              "        text-align: right;\n",
              "    }\n",
              "</style>\n",
              "<table border=\"1\" class=\"dataframe\">\n",
              "  <thead>\n",
              "    <tr style=\"text-align: right;\">\n",
              "      <th></th>\n",
              "      <th>date_time</th>\n",
              "      <th>deg_C</th>\n",
              "      <th>relative_humidity</th>\n",
              "      <th>absolute_humidity</th>\n",
              "      <th>sensor_1</th>\n",
              "      <th>sensor_2</th>\n",
              "      <th>sensor_3</th>\n",
              "      <th>sensor_4</th>\n",
              "      <th>sensor_5</th>\n",
              "    </tr>\n",
              "  </thead>\n",
              "  <tbody>\n",
              "    <tr>\n",
              "      <th>0</th>\n",
              "      <td>2011-01-01 00:00:00</td>\n",
              "      <td>8.0</td>\n",
              "      <td>41.3</td>\n",
              "      <td>0.4375</td>\n",
              "      <td>1108.8</td>\n",
              "      <td>745.7</td>\n",
              "      <td>797.1</td>\n",
              "      <td>880.0</td>\n",
              "      <td>1273.1</td>\n",
              "    </tr>\n",
              "    <tr>\n",
              "      <th>1</th>\n",
              "      <td>2011-01-01 01:00:00</td>\n",
              "      <td>5.1</td>\n",
              "      <td>51.7</td>\n",
              "      <td>0.4564</td>\n",
              "      <td>1249.5</td>\n",
              "      <td>864.9</td>\n",
              "      <td>687.9</td>\n",
              "      <td>972.8</td>\n",
              "      <td>1714.0</td>\n",
              "    </tr>\n",
              "    <tr>\n",
              "      <th>2</th>\n",
              "      <td>2011-01-01 02:00:00</td>\n",
              "      <td>5.8</td>\n",
              "      <td>51.5</td>\n",
              "      <td>0.4689</td>\n",
              "      <td>1102.6</td>\n",
              "      <td>878.0</td>\n",
              "      <td>693.7</td>\n",
              "      <td>941.9</td>\n",
              "      <td>1300.8</td>\n",
              "    </tr>\n",
              "    <tr>\n",
              "      <th>3</th>\n",
              "      <td>2011-01-01 03:00:00</td>\n",
              "      <td>5.0</td>\n",
              "      <td>52.3</td>\n",
              "      <td>0.4693</td>\n",
              "      <td>1139.7</td>\n",
              "      <td>916.2</td>\n",
              "      <td>725.6</td>\n",
              "      <td>1011.0</td>\n",
              "      <td>1283.0</td>\n",
              "    </tr>\n",
              "    <tr>\n",
              "      <th>4</th>\n",
              "      <td>2011-01-01 04:00:00</td>\n",
              "      <td>4.5</td>\n",
              "      <td>57.5</td>\n",
              "      <td>0.4650</td>\n",
              "      <td>1022.4</td>\n",
              "      <td>838.5</td>\n",
              "      <td>871.5</td>\n",
              "      <td>967.0</td>\n",
              "      <td>1142.3</td>\n",
              "    </tr>\n",
              "    <tr>\n",
              "      <th>...</th>\n",
              "      <td>...</td>\n",
              "      <td>...</td>\n",
              "      <td>...</td>\n",
              "      <td>...</td>\n",
              "      <td>...</td>\n",
              "      <td>...</td>\n",
              "      <td>...</td>\n",
              "      <td>...</td>\n",
              "      <td>...</td>\n",
              "    </tr>\n",
              "    <tr>\n",
              "      <th>2242</th>\n",
              "      <td>2011-04-04 10:00:00</td>\n",
              "      <td>23.2</td>\n",
              "      <td>28.7</td>\n",
              "      <td>0.7568</td>\n",
              "      <td>1340.3</td>\n",
              "      <td>1023.9</td>\n",
              "      <td>522.8</td>\n",
              "      <td>1374.0</td>\n",
              "      <td>1659.8</td>\n",
              "    </tr>\n",
              "    <tr>\n",
              "      <th>2243</th>\n",
              "      <td>2011-04-04 11:00:00</td>\n",
              "      <td>24.5</td>\n",
              "      <td>22.5</td>\n",
              "      <td>0.7119</td>\n",
              "      <td>1232.8</td>\n",
              "      <td>955.1</td>\n",
              "      <td>616.1</td>\n",
              "      <td>1226.1</td>\n",
              "      <td>1269.0</td>\n",
              "    </tr>\n",
              "    <tr>\n",
              "      <th>2244</th>\n",
              "      <td>2011-04-04 12:00:00</td>\n",
              "      <td>26.6</td>\n",
              "      <td>19.0</td>\n",
              "      <td>0.6406</td>\n",
              "      <td>1187.7</td>\n",
              "      <td>1052.4</td>\n",
              "      <td>572.8</td>\n",
              "      <td>1253.4</td>\n",
              "      <td>1081.1</td>\n",
              "    </tr>\n",
              "    <tr>\n",
              "      <th>2245</th>\n",
              "      <td>2011-04-04 13:00:00</td>\n",
              "      <td>29.1</td>\n",
              "      <td>12.7</td>\n",
              "      <td>0.5139</td>\n",
              "      <td>1053.2</td>\n",
              "      <td>1009.0</td>\n",
              "      <td>702.0</td>\n",
              "      <td>1009.8</td>\n",
              "      <td>808.5</td>\n",
              "    </tr>\n",
              "    <tr>\n",
              "      <th>2246</th>\n",
              "      <td>2011-04-04 14:00:00</td>\n",
              "      <td>27.9</td>\n",
              "      <td>13.5</td>\n",
              "      <td>0.5028</td>\n",
              "      <td>1124.6</td>\n",
              "      <td>1078.4</td>\n",
              "      <td>608.2</td>\n",
              "      <td>1061.3</td>\n",
              "      <td>816.0</td>\n",
              "    </tr>\n",
              "  </tbody>\n",
              "</table>\n",
              "<p>2247 rows × 9 columns</p>\n",
              "</div>"
            ],
            "text/plain": [
              "                date_time  deg_C  ...  sensor_4  sensor_5\n",
              "0     2011-01-01 00:00:00    8.0  ...     880.0    1273.1\n",
              "1     2011-01-01 01:00:00    5.1  ...     972.8    1714.0\n",
              "2     2011-01-01 02:00:00    5.8  ...     941.9    1300.8\n",
              "3     2011-01-01 03:00:00    5.0  ...    1011.0    1283.0\n",
              "4     2011-01-01 04:00:00    4.5  ...     967.0    1142.3\n",
              "...                   ...    ...  ...       ...       ...\n",
              "2242  2011-04-04 10:00:00   23.2  ...    1374.0    1659.8\n",
              "2243  2011-04-04 11:00:00   24.5  ...    1226.1    1269.0\n",
              "2244  2011-04-04 12:00:00   26.6  ...    1253.4    1081.1\n",
              "2245  2011-04-04 13:00:00   29.1  ...    1009.8     808.5\n",
              "2246  2011-04-04 14:00:00   27.9  ...    1061.3     816.0\n",
              "\n",
              "[2247 rows x 9 columns]"
            ]
          },
          "metadata": {
            "tags": []
          },
          "execution_count": 259
        }
      ]
    },
    {
      "cell_type": "code",
      "metadata": {
        "id": "3SfgcoMjs6dE"
      },
      "source": [
        "X_train = np.array(df_train.iloc[:, 1:9]).reshape(-1, 1, 8)\n",
        "y_train = np.array(df_train.iloc[:, 9:]).reshape(-1, 1, 3)\n"
      ],
      "execution_count": 260,
      "outputs": []
    },
    {
      "cell_type": "code",
      "metadata": {
        "colab": {
          "base_uri": "https://localhost:8080/"
        },
        "id": "78A4-IrUtUW9",
        "outputId": "bed31fd7-c010-40e5-9047-54c6a69544af"
      },
      "source": [
        "y_train.shape"
      ],
      "execution_count": 261,
      "outputs": [
        {
          "output_type": "execute_result",
          "data": {
            "text/plain": [
              "(7111, 1, 3)"
            ]
          },
          "metadata": {
            "tags": []
          },
          "execution_count": 261
        }
      ]
    },
    {
      "cell_type": "code",
      "metadata": {
        "id": "pO4RqofAtV49"
      },
      "source": [
        "import tensorflow as tf\n",
        "model = tf.keras.models.Sequential([\n",
        "  tf.keras.layers.Bidirectional(tf.keras.layers.LSTM(8, input_shape = (1, 8), return_sequences=True)),\n",
        "  # tf.keras.layers.Dropout(.5),\n",
        "  tf.keras.layers.Dense(512, activation=\"relu\"),\n",
        "  tf.keras.layers.Dense(256, activation=\"relu\"),\n",
        "  tf.keras.layers.Dense(128, activation=\"relu\"),\n",
        "  tf.keras.layers.Dense(64, activation=\"relu\"), \n",
        "  tf.keras.layers.Dense(3),\n",
        "])\n",
        "\n",
        "optimizer = tf.keras.optimizers.Adam(0.005)\n",
        "model.compile(loss=tf.keras.losses.MeanAbsoluteError(),\n",
        "              optimizer=optimizer,\n",
        "              metrics=[\"mae\"])"
      ],
      "execution_count": 262,
      "outputs": []
    },
    {
      "cell_type": "code",
      "metadata": {
        "id": "qRM6p-1ut-C6"
      },
      "source": [
        "#make folder model\n",
        "model._name = \"model_LSTM\"\n",
        "model_save_path = \"./models/\"\n",
        "if not os.path.exists(model_save_path):\n",
        "    os.mkdir(model_save_path)"
      ],
      "execution_count": 263,
      "outputs": []
    },
    {
      "cell_type": "code",
      "metadata": {
        "colab": {
          "base_uri": "https://localhost:8080/"
        },
        "id": "iAXU9E7huG8I",
        "outputId": "3e1c2293-e3ae-4c89-9804-0a3069de326d"
      },
      "source": [
        "from keras.callbacks import EarlyStopping, ModelCheckpoint, ReduceLROnPlateau, Callback\n",
        "checkpoint = ModelCheckpoint(os.path.join(model_save_path, model.name+\".h5\"), save_weights_only=True,\n",
        "                             verbose=1, save_best_only=True, monitor='val_mae', mode='min')\n",
        "\n",
        "history = model.fit(X_train, \n",
        "                    y_train, \n",
        "                    validation_split = 0.2, \n",
        "                    epochs=10, \n",
        "                    steps_per_epoch = len(X_train)//32,\n",
        "                    callbacks=[checkpoint]\n",
        "                   )"
      ],
      "execution_count": 264,
      "outputs": [
        {
          "output_type": "stream",
          "text": [
            "Epoch 1/10\n",
            "222/222 [==============================] - 7s 10ms/step - loss: 0.0283 - mae: 0.0283 - val_loss: 0.0836 - val_mae: 0.0836\n",
            "\n",
            "Epoch 00001: val_mae improved from inf to 0.08364, saving model to ./models/model_LSTM.h5\n",
            "Epoch 2/10\n",
            "222/222 [==============================] - 1s 6ms/step - loss: 0.0236 - mae: 0.0236 - val_loss: 0.0718 - val_mae: 0.0718\n",
            "\n",
            "Epoch 00002: val_mae improved from 0.08364 to 0.07176, saving model to ./models/model_LSTM.h5\n",
            "Epoch 3/10\n",
            "222/222 [==============================] - 1s 6ms/step - loss: 0.0224 - mae: 0.0224 - val_loss: 0.0711 - val_mae: 0.0711\n",
            "\n",
            "Epoch 00003: val_mae improved from 0.07176 to 0.07111, saving model to ./models/model_LSTM.h5\n",
            "Epoch 4/10\n",
            "222/222 [==============================] - 1s 6ms/step - loss: 0.0205 - mae: 0.0205 - val_loss: 0.0775 - val_mae: 0.0775\n",
            "\n",
            "Epoch 00004: val_mae did not improve from 0.07111\n",
            "Epoch 5/10\n",
            "222/222 [==============================] - 1s 6ms/step - loss: 0.0219 - mae: 0.0219 - val_loss: 0.0763 - val_mae: 0.0763\n",
            "\n",
            "Epoch 00005: val_mae did not improve from 0.07111\n",
            "Epoch 6/10\n",
            "222/222 [==============================] - 1s 6ms/step - loss: 0.0200 - mae: 0.0200 - val_loss: 0.0733 - val_mae: 0.0733\n",
            "\n",
            "Epoch 00006: val_mae did not improve from 0.07111\n",
            "Epoch 7/10\n",
            "222/222 [==============================] - 1s 6ms/step - loss: 0.0199 - mae: 0.0199 - val_loss: 0.0627 - val_mae: 0.0627\n",
            "\n",
            "Epoch 00007: val_mae improved from 0.07111 to 0.06273, saving model to ./models/model_LSTM.h5\n",
            "Epoch 8/10\n",
            "222/222 [==============================] - 1s 5ms/step - loss: 0.0207 - mae: 0.0207 - val_loss: 0.0681 - val_mae: 0.0681\n",
            "\n",
            "Epoch 00008: val_mae did not improve from 0.06273\n",
            "Epoch 9/10\n",
            "222/222 [==============================] - 1s 6ms/step - loss: 0.0203 - mae: 0.0203 - val_loss: 0.0645 - val_mae: 0.0645\n",
            "\n",
            "Epoch 00009: val_mae did not improve from 0.06273\n",
            "Epoch 10/10\n",
            "192/222 [========================>.....] - ETA: 0s - loss: 0.0204 - mae: 0.0204WARNING:tensorflow:Your input ran out of data; interrupting training. Make sure that your dataset or generator can generate at least `steps_per_epoch * epochs` batches (in this case, 2220 batches). You may need to use the repeat() function when building your dataset.\n",
            "222/222 [==============================] - 1s 5ms/step - loss: 0.0204 - mae: 0.0204 - val_loss: 0.0712 - val_mae: 0.0712\n",
            "\n",
            "Epoch 00010: val_mae did not improve from 0.06273\n"
          ],
          "name": "stdout"
        }
      ]
    },
    {
      "cell_type": "code",
      "metadata": {
        "id": "mOJ2NP0NuKoc"
      },
      "source": [
        "test_data = np.array(feature_scaler.fit_transform(df_test.iloc[:, 1:])).reshape(-1,1,8)"
      ],
      "execution_count": 265,
      "outputs": []
    },
    {
      "cell_type": "code",
      "metadata": {
        "id": "jZf1g4J-wfQR"
      },
      "source": [
        "test_result = model.predict(test_data)"
      ],
      "execution_count": 266,
      "outputs": []
    },
    {
      "cell_type": "code",
      "metadata": {
        "id": "tJKTmTqewu88"
      },
      "source": [
        "test_result = pd.DataFrame(test_result.reshape(-1,3))"
      ],
      "execution_count": 267,
      "outputs": []
    },
    {
      "cell_type": "code",
      "metadata": {
        "colab": {
          "base_uri": "https://localhost:8080/",
          "height": 422
        },
        "id": "6uZsGbHTyPG4",
        "outputId": "25479c22-23dc-4b9a-c3fd-665e224b8ae8"
      },
      "source": [
        "test_result"
      ],
      "execution_count": 268,
      "outputs": [
        {
          "output_type": "execute_result",
          "data": {
            "text/html": [
              "<div>\n",
              "<style scoped>\n",
              "    .dataframe tbody tr th:only-of-type {\n",
              "        vertical-align: middle;\n",
              "    }\n",
              "\n",
              "    .dataframe tbody tr th {\n",
              "        vertical-align: top;\n",
              "    }\n",
              "\n",
              "    .dataframe thead th {\n",
              "        text-align: right;\n",
              "    }\n",
              "</style>\n",
              "<table border=\"1\" class=\"dataframe\">\n",
              "  <thead>\n",
              "    <tr style=\"text-align: right;\">\n",
              "      <th></th>\n",
              "      <th>0</th>\n",
              "      <th>1</th>\n",
              "      <th>2</th>\n",
              "    </tr>\n",
              "  </thead>\n",
              "  <tbody>\n",
              "    <tr>\n",
              "      <th>0</th>\n",
              "      <td>0.126323</td>\n",
              "      <td>0.131561</td>\n",
              "      <td>0.078956</td>\n",
              "    </tr>\n",
              "    <tr>\n",
              "      <th>1</th>\n",
              "      <td>0.199067</td>\n",
              "      <td>0.202758</td>\n",
              "      <td>0.115335</td>\n",
              "    </tr>\n",
              "    <tr>\n",
              "      <th>2</th>\n",
              "      <td>0.171406</td>\n",
              "      <td>0.192160</td>\n",
              "      <td>0.155826</td>\n",
              "    </tr>\n",
              "    <tr>\n",
              "      <th>3</th>\n",
              "      <td>0.186989</td>\n",
              "      <td>0.195459</td>\n",
              "      <td>0.111734</td>\n",
              "    </tr>\n",
              "    <tr>\n",
              "      <th>4</th>\n",
              "      <td>0.132818</td>\n",
              "      <td>0.137971</td>\n",
              "      <td>0.073417</td>\n",
              "    </tr>\n",
              "    <tr>\n",
              "      <th>...</th>\n",
              "      <td>...</td>\n",
              "      <td>...</td>\n",
              "      <td>...</td>\n",
              "    </tr>\n",
              "    <tr>\n",
              "      <th>2242</th>\n",
              "      <td>0.262556</td>\n",
              "      <td>0.318591</td>\n",
              "      <td>0.259156</td>\n",
              "    </tr>\n",
              "    <tr>\n",
              "      <th>2243</th>\n",
              "      <td>0.195822</td>\n",
              "      <td>0.237552</td>\n",
              "      <td>0.198150</td>\n",
              "    </tr>\n",
              "    <tr>\n",
              "      <th>2244</th>\n",
              "      <td>0.227485</td>\n",
              "      <td>0.279924</td>\n",
              "      <td>0.203167</td>\n",
              "    </tr>\n",
              "    <tr>\n",
              "      <th>2245</th>\n",
              "      <td>0.181133</td>\n",
              "      <td>0.220685</td>\n",
              "      <td>0.202524</td>\n",
              "    </tr>\n",
              "    <tr>\n",
              "      <th>2246</th>\n",
              "      <td>0.224416</td>\n",
              "      <td>0.272881</td>\n",
              "      <td>0.245785</td>\n",
              "    </tr>\n",
              "  </tbody>\n",
              "</table>\n",
              "<p>2247 rows × 3 columns</p>\n",
              "</div>"
            ],
            "text/plain": [
              "             0         1         2\n",
              "0     0.126323  0.131561  0.078956\n",
              "1     0.199067  0.202758  0.115335\n",
              "2     0.171406  0.192160  0.155826\n",
              "3     0.186989  0.195459  0.111734\n",
              "4     0.132818  0.137971  0.073417\n",
              "...        ...       ...       ...\n",
              "2242  0.262556  0.318591  0.259156\n",
              "2243  0.195822  0.237552  0.198150\n",
              "2244  0.227485  0.279924  0.203167\n",
              "2245  0.181133  0.220685  0.202524\n",
              "2246  0.224416  0.272881  0.245785\n",
              "\n",
              "[2247 rows x 3 columns]"
            ]
          },
          "metadata": {
            "tags": []
          },
          "execution_count": 268
        }
      ]
    },
    {
      "cell_type": "code",
      "metadata": {
        "id": "77M4Z4pt0INM"
      },
      "source": [
        "test_result.iloc[:, :] = label_scaler.inverse_transform(test_result)"
      ],
      "execution_count": 269,
      "outputs": []
    },
    {
      "cell_type": "code",
      "metadata": {
        "colab": {
          "base_uri": "https://localhost:8080/",
          "height": 422
        },
        "id": "Pr4xigO61yPz",
        "outputId": "8156ffe3-afe8-4634-c736-321cc40c4787"
      },
      "source": [
        "test_result"
      ],
      "execution_count": 270,
      "outputs": [
        {
          "output_type": "execute_result",
          "data": {
            "text/html": [
              "<div>\n",
              "<style scoped>\n",
              "    .dataframe tbody tr th:only-of-type {\n",
              "        vertical-align: middle;\n",
              "    }\n",
              "\n",
              "    .dataframe tbody tr th {\n",
              "        vertical-align: top;\n",
              "    }\n",
              "\n",
              "    .dataframe thead th {\n",
              "        text-align: right;\n",
              "    }\n",
              "</style>\n",
              "<table border=\"1\" class=\"dataframe\">\n",
              "  <thead>\n",
              "    <tr style=\"text-align: right;\">\n",
              "      <th></th>\n",
              "      <th>0</th>\n",
              "      <th>1</th>\n",
              "      <th>2</th>\n",
              "    </tr>\n",
              "  </thead>\n",
              "  <tbody>\n",
              "    <tr>\n",
              "      <th>0</th>\n",
              "      <td>1.666403</td>\n",
              "      <td>8.467260</td>\n",
              "      <td>117.997597</td>\n",
              "    </tr>\n",
              "    <tr>\n",
              "      <th>1</th>\n",
              "      <td>2.568436</td>\n",
              "      <td>12.995405</td>\n",
              "      <td>171.487930</td>\n",
              "    </tr>\n",
              "    <tr>\n",
              "      <th>2</th>\n",
              "      <td>2.225438</td>\n",
              "      <td>12.321396</td>\n",
              "      <td>231.027283</td>\n",
              "    </tr>\n",
              "    <tr>\n",
              "      <th>3</th>\n",
              "      <td>2.418668</td>\n",
              "      <td>12.531160</td>\n",
              "      <td>166.194016</td>\n",
              "    </tr>\n",
              "    <tr>\n",
              "      <th>4</th>\n",
              "      <td>1.746943</td>\n",
              "      <td>8.874928</td>\n",
              "      <td>109.852135</td>\n",
              "    </tr>\n",
              "    <tr>\n",
              "      <th>...</th>\n",
              "      <td>...</td>\n",
              "      <td>...</td>\n",
              "      <td>...</td>\n",
              "    </tr>\n",
              "    <tr>\n",
              "      <th>2242</th>\n",
              "      <td>3.355689</td>\n",
              "      <td>20.362411</td>\n",
              "      <td>382.962402</td>\n",
              "    </tr>\n",
              "    <tr>\n",
              "      <th>2243</th>\n",
              "      <td>2.528198</td>\n",
              "      <td>15.208330</td>\n",
              "      <td>293.259216</td>\n",
              "    </tr>\n",
              "    <tr>\n",
              "      <th>2244</th>\n",
              "      <td>2.920808</td>\n",
              "      <td>17.903139</td>\n",
              "      <td>300.636627</td>\n",
              "    </tr>\n",
              "    <tr>\n",
              "      <th>2245</th>\n",
              "      <td>2.346050</td>\n",
              "      <td>14.135564</td>\n",
              "      <td>299.691467</td>\n",
              "    </tr>\n",
              "    <tr>\n",
              "      <th>2246</th>\n",
              "      <td>2.882762</td>\n",
              "      <td>17.455217</td>\n",
              "      <td>363.302277</td>\n",
              "    </tr>\n",
              "  </tbody>\n",
              "</table>\n",
              "<p>2247 rows × 3 columns</p>\n",
              "</div>"
            ],
            "text/plain": [
              "             0          1           2\n",
              "0     1.666403   8.467260  117.997597\n",
              "1     2.568436  12.995405  171.487930\n",
              "2     2.225438  12.321396  231.027283\n",
              "3     2.418668  12.531160  166.194016\n",
              "4     1.746943   8.874928  109.852135\n",
              "...        ...        ...         ...\n",
              "2242  3.355689  20.362411  382.962402\n",
              "2243  2.528198  15.208330  293.259216\n",
              "2244  2.920808  17.903139  300.636627\n",
              "2245  2.346050  14.135564  299.691467\n",
              "2246  2.882762  17.455217  363.302277\n",
              "\n",
              "[2247 rows x 3 columns]"
            ]
          },
          "metadata": {
            "tags": []
          },
          "execution_count": 270
        }
      ]
    },
    {
      "cell_type": "code",
      "metadata": {
        "id": "pK2VritSw47M"
      },
      "source": [
        "test_result.columns = ['target_carbon_monoxide',\t'target_benzene',\t'target_nitrogen_oxides']"
      ],
      "execution_count": 271,
      "outputs": []
    },
    {
      "cell_type": "code",
      "metadata": {
        "colab": {
          "base_uri": "https://localhost:8080/",
          "height": 422
        },
        "id": "IQYm4YeRxyUz",
        "outputId": "68d0837a-6774-4a7e-9fbf-989043f82ead"
      },
      "source": [
        "test_result"
      ],
      "execution_count": 272,
      "outputs": [
        {
          "output_type": "execute_result",
          "data": {
            "text/html": [
              "<div>\n",
              "<style scoped>\n",
              "    .dataframe tbody tr th:only-of-type {\n",
              "        vertical-align: middle;\n",
              "    }\n",
              "\n",
              "    .dataframe tbody tr th {\n",
              "        vertical-align: top;\n",
              "    }\n",
              "\n",
              "    .dataframe thead th {\n",
              "        text-align: right;\n",
              "    }\n",
              "</style>\n",
              "<table border=\"1\" class=\"dataframe\">\n",
              "  <thead>\n",
              "    <tr style=\"text-align: right;\">\n",
              "      <th></th>\n",
              "      <th>target_carbon_monoxide</th>\n",
              "      <th>target_benzene</th>\n",
              "      <th>target_nitrogen_oxides</th>\n",
              "    </tr>\n",
              "  </thead>\n",
              "  <tbody>\n",
              "    <tr>\n",
              "      <th>0</th>\n",
              "      <td>1.666403</td>\n",
              "      <td>8.467260</td>\n",
              "      <td>117.997597</td>\n",
              "    </tr>\n",
              "    <tr>\n",
              "      <th>1</th>\n",
              "      <td>2.568436</td>\n",
              "      <td>12.995405</td>\n",
              "      <td>171.487930</td>\n",
              "    </tr>\n",
              "    <tr>\n",
              "      <th>2</th>\n",
              "      <td>2.225438</td>\n",
              "      <td>12.321396</td>\n",
              "      <td>231.027283</td>\n",
              "    </tr>\n",
              "    <tr>\n",
              "      <th>3</th>\n",
              "      <td>2.418668</td>\n",
              "      <td>12.531160</td>\n",
              "      <td>166.194016</td>\n",
              "    </tr>\n",
              "    <tr>\n",
              "      <th>4</th>\n",
              "      <td>1.746943</td>\n",
              "      <td>8.874928</td>\n",
              "      <td>109.852135</td>\n",
              "    </tr>\n",
              "    <tr>\n",
              "      <th>...</th>\n",
              "      <td>...</td>\n",
              "      <td>...</td>\n",
              "      <td>...</td>\n",
              "    </tr>\n",
              "    <tr>\n",
              "      <th>2242</th>\n",
              "      <td>3.355689</td>\n",
              "      <td>20.362411</td>\n",
              "      <td>382.962402</td>\n",
              "    </tr>\n",
              "    <tr>\n",
              "      <th>2243</th>\n",
              "      <td>2.528198</td>\n",
              "      <td>15.208330</td>\n",
              "      <td>293.259216</td>\n",
              "    </tr>\n",
              "    <tr>\n",
              "      <th>2244</th>\n",
              "      <td>2.920808</td>\n",
              "      <td>17.903139</td>\n",
              "      <td>300.636627</td>\n",
              "    </tr>\n",
              "    <tr>\n",
              "      <th>2245</th>\n",
              "      <td>2.346050</td>\n",
              "      <td>14.135564</td>\n",
              "      <td>299.691467</td>\n",
              "    </tr>\n",
              "    <tr>\n",
              "      <th>2246</th>\n",
              "      <td>2.882762</td>\n",
              "      <td>17.455217</td>\n",
              "      <td>363.302277</td>\n",
              "    </tr>\n",
              "  </tbody>\n",
              "</table>\n",
              "<p>2247 rows × 3 columns</p>\n",
              "</div>"
            ],
            "text/plain": [
              "      target_carbon_monoxide  target_benzene  target_nitrogen_oxides\n",
              "0                   1.666403        8.467260              117.997597\n",
              "1                   2.568436       12.995405              171.487930\n",
              "2                   2.225438       12.321396              231.027283\n",
              "3                   2.418668       12.531160              166.194016\n",
              "4                   1.746943        8.874928              109.852135\n",
              "...                      ...             ...                     ...\n",
              "2242                3.355689       20.362411              382.962402\n",
              "2243                2.528198       15.208330              293.259216\n",
              "2244                2.920808       17.903139              300.636627\n",
              "2245                2.346050       14.135564              299.691467\n",
              "2246                2.882762       17.455217              363.302277\n",
              "\n",
              "[2247 rows x 3 columns]"
            ]
          },
          "metadata": {
            "tags": []
          },
          "execution_count": 272
        }
      ]
    },
    {
      "cell_type": "code",
      "metadata": {
        "id": "rJXvyNeVx4zS"
      },
      "source": [
        "df_submission = pd.concat([df_test['date_time'], test_result], axis = 1)"
      ],
      "execution_count": 273,
      "outputs": []
    },
    {
      "cell_type": "code",
      "metadata": {
        "id": "W-8kWDbQ18Rp"
      },
      "source": [
        "df_submission.to_csv(\"Bidirectional_LSTM_Submission.csv\", index=False)"
      ],
      "execution_count": 274,
      "outputs": []
    },
    {
      "cell_type": "code",
      "metadata": {
        "colab": {
          "base_uri": "https://localhost:8080/"
        },
        "id": "T701PTqr2XxU",
        "outputId": "3bcd91bf-6c09-476b-861b-4aa487f22575"
      },
      "source": [
        "!wget Bidirectional_LSTM_Submission.csv"
      ],
      "execution_count": 275,
      "outputs": [
        {
          "output_type": "stream",
          "text": [
            "--2021-07-14 13:23:54--  http://bidirectional_lstm_submission.csv/\n",
            "Resolving bidirectional_lstm_submission.csv (bidirectional_lstm_submission.csv)... failed: Name or service not known.\n",
            "wget: unable to resolve host address ‘bidirectional_lstm_submission.csv’\n"
          ],
          "name": "stdout"
        }
      ]
    },
    {
      "cell_type": "code",
      "metadata": {
        "colab": {
          "base_uri": "https://localhost:8080/",
          "height": 422
        },
        "id": "djpNSa9A2ata",
        "outputId": "001dd0fc-2346-449b-ef7e-7f2859f643fa"
      },
      "source": [
        "df_submission"
      ],
      "execution_count": 276,
      "outputs": [
        {
          "output_type": "execute_result",
          "data": {
            "text/html": [
              "<div>\n",
              "<style scoped>\n",
              "    .dataframe tbody tr th:only-of-type {\n",
              "        vertical-align: middle;\n",
              "    }\n",
              "\n",
              "    .dataframe tbody tr th {\n",
              "        vertical-align: top;\n",
              "    }\n",
              "\n",
              "    .dataframe thead th {\n",
              "        text-align: right;\n",
              "    }\n",
              "</style>\n",
              "<table border=\"1\" class=\"dataframe\">\n",
              "  <thead>\n",
              "    <tr style=\"text-align: right;\">\n",
              "      <th></th>\n",
              "      <th>date_time</th>\n",
              "      <th>target_carbon_monoxide</th>\n",
              "      <th>target_benzene</th>\n",
              "      <th>target_nitrogen_oxides</th>\n",
              "    </tr>\n",
              "  </thead>\n",
              "  <tbody>\n",
              "    <tr>\n",
              "      <th>0</th>\n",
              "      <td>2011-01-01 00:00:00</td>\n",
              "      <td>1.666403</td>\n",
              "      <td>8.467260</td>\n",
              "      <td>117.997597</td>\n",
              "    </tr>\n",
              "    <tr>\n",
              "      <th>1</th>\n",
              "      <td>2011-01-01 01:00:00</td>\n",
              "      <td>2.568436</td>\n",
              "      <td>12.995405</td>\n",
              "      <td>171.487930</td>\n",
              "    </tr>\n",
              "    <tr>\n",
              "      <th>2</th>\n",
              "      <td>2011-01-01 02:00:00</td>\n",
              "      <td>2.225438</td>\n",
              "      <td>12.321396</td>\n",
              "      <td>231.027283</td>\n",
              "    </tr>\n",
              "    <tr>\n",
              "      <th>3</th>\n",
              "      <td>2011-01-01 03:00:00</td>\n",
              "      <td>2.418668</td>\n",
              "      <td>12.531160</td>\n",
              "      <td>166.194016</td>\n",
              "    </tr>\n",
              "    <tr>\n",
              "      <th>4</th>\n",
              "      <td>2011-01-01 04:00:00</td>\n",
              "      <td>1.746943</td>\n",
              "      <td>8.874928</td>\n",
              "      <td>109.852135</td>\n",
              "    </tr>\n",
              "    <tr>\n",
              "      <th>...</th>\n",
              "      <td>...</td>\n",
              "      <td>...</td>\n",
              "      <td>...</td>\n",
              "      <td>...</td>\n",
              "    </tr>\n",
              "    <tr>\n",
              "      <th>2242</th>\n",
              "      <td>2011-04-04 10:00:00</td>\n",
              "      <td>3.355689</td>\n",
              "      <td>20.362411</td>\n",
              "      <td>382.962402</td>\n",
              "    </tr>\n",
              "    <tr>\n",
              "      <th>2243</th>\n",
              "      <td>2011-04-04 11:00:00</td>\n",
              "      <td>2.528198</td>\n",
              "      <td>15.208330</td>\n",
              "      <td>293.259216</td>\n",
              "    </tr>\n",
              "    <tr>\n",
              "      <th>2244</th>\n",
              "      <td>2011-04-04 12:00:00</td>\n",
              "      <td>2.920808</td>\n",
              "      <td>17.903139</td>\n",
              "      <td>300.636627</td>\n",
              "    </tr>\n",
              "    <tr>\n",
              "      <th>2245</th>\n",
              "      <td>2011-04-04 13:00:00</td>\n",
              "      <td>2.346050</td>\n",
              "      <td>14.135564</td>\n",
              "      <td>299.691467</td>\n",
              "    </tr>\n",
              "    <tr>\n",
              "      <th>2246</th>\n",
              "      <td>2011-04-04 14:00:00</td>\n",
              "      <td>2.882762</td>\n",
              "      <td>17.455217</td>\n",
              "      <td>363.302277</td>\n",
              "    </tr>\n",
              "  </tbody>\n",
              "</table>\n",
              "<p>2247 rows × 4 columns</p>\n",
              "</div>"
            ],
            "text/plain": [
              "                date_time  ...  target_nitrogen_oxides\n",
              "0     2011-01-01 00:00:00  ...              117.997597\n",
              "1     2011-01-01 01:00:00  ...              171.487930\n",
              "2     2011-01-01 02:00:00  ...              231.027283\n",
              "3     2011-01-01 03:00:00  ...              166.194016\n",
              "4     2011-01-01 04:00:00  ...              109.852135\n",
              "...                   ...  ...                     ...\n",
              "2242  2011-04-04 10:00:00  ...              382.962402\n",
              "2243  2011-04-04 11:00:00  ...              293.259216\n",
              "2244  2011-04-04 12:00:00  ...              300.636627\n",
              "2245  2011-04-04 13:00:00  ...              299.691467\n",
              "2246  2011-04-04 14:00:00  ...              363.302277\n",
              "\n",
              "[2247 rows x 4 columns]"
            ]
          },
          "metadata": {
            "tags": []
          },
          "execution_count": 276
        }
      ]
    },
    {
      "cell_type": "code",
      "metadata": {
        "colab": {
          "base_uri": "https://localhost:8080/",
          "height": 422
        },
        "id": "waxys7s_3mka",
        "outputId": "6ce5690f-b16f-44f6-ee73-914081c09a51"
      },
      "source": [
        "df_train"
      ],
      "execution_count": 277,
      "outputs": [
        {
          "output_type": "execute_result",
          "data": {
            "text/html": [
              "<div>\n",
              "<style scoped>\n",
              "    .dataframe tbody tr th:only-of-type {\n",
              "        vertical-align: middle;\n",
              "    }\n",
              "\n",
              "    .dataframe tbody tr th {\n",
              "        vertical-align: top;\n",
              "    }\n",
              "\n",
              "    .dataframe thead th {\n",
              "        text-align: right;\n",
              "    }\n",
              "</style>\n",
              "<table border=\"1\" class=\"dataframe\">\n",
              "  <thead>\n",
              "    <tr style=\"text-align: right;\">\n",
              "      <th></th>\n",
              "      <th>date_time</th>\n",
              "      <th>deg_C</th>\n",
              "      <th>relative_humidity</th>\n",
              "      <th>absolute_humidity</th>\n",
              "      <th>sensor_1</th>\n",
              "      <th>sensor_2</th>\n",
              "      <th>sensor_3</th>\n",
              "      <th>sensor_4</th>\n",
              "      <th>sensor_5</th>\n",
              "      <th>target_carbon_monoxide</th>\n",
              "      <th>target_benzene</th>\n",
              "      <th>target_nitrogen_oxides</th>\n",
              "    </tr>\n",
              "  </thead>\n",
              "  <tbody>\n",
              "    <tr>\n",
              "      <th>0</th>\n",
              "      <td>2010-03-10 18:00:00</td>\n",
              "      <td>0.263393</td>\n",
              "      <td>0.452991</td>\n",
              "      <td>0.275071</td>\n",
              "      <td>0.522411</td>\n",
              "      <td>0.373362</td>\n",
              "      <td>0.330291</td>\n",
              "      <td>0.504003</td>\n",
              "      <td>0.446745</td>\n",
              "      <td>0.193548</td>\n",
              "      <td>0.187107</td>\n",
              "      <td>0.112758</td>\n",
              "    </tr>\n",
              "    <tr>\n",
              "      <th>1</th>\n",
              "      <td>2010-03-10 19:00:00</td>\n",
              "      <td>0.265625</td>\n",
              "      <td>0.444444</td>\n",
              "      <td>0.259177</td>\n",
              "      <td>0.448774</td>\n",
              "      <td>0.270401</td>\n",
              "      <td>0.392990</td>\n",
              "      <td>0.379940</td>\n",
              "      <td>0.326630</td>\n",
              "      <td>0.161290</td>\n",
              "      <td>0.154088</td>\n",
              "      <td>0.065968</td>\n",
              "    </tr>\n",
              "    <tr>\n",
              "      <th>2</th>\n",
              "      <td>2010-03-10 20:00:00</td>\n",
              "      <td>0.252232</td>\n",
              "      <td>0.577534</td>\n",
              "      <td>0.271332</td>\n",
              "      <td>0.484741</td>\n",
              "      <td>0.291757</td>\n",
              "      <td>0.332152</td>\n",
              "      <td>0.437630</td>\n",
              "      <td>0.371742</td>\n",
              "      <td>0.169355</td>\n",
              "      <td>0.143082</td>\n",
              "      <td>0.085147</td>\n",
              "    </tr>\n",
              "    <tr>\n",
              "      <th>3</th>\n",
              "      <td>2010-03-10 21:00:00</td>\n",
              "      <td>0.216518</td>\n",
              "      <td>0.653236</td>\n",
              "      <td>0.289292</td>\n",
              "      <td>0.477316</td>\n",
              "      <td>0.291447</td>\n",
              "      <td>0.351072</td>\n",
              "      <td>0.416621</td>\n",
              "      <td>0.433905</td>\n",
              "      <td>0.169355</td>\n",
              "      <td>0.150943</td>\n",
              "      <td>0.119219</td>\n",
              "    </tr>\n",
              "    <tr>\n",
              "      <th>4</th>\n",
              "      <td>2010-03-10 22:00:00</td>\n",
              "      <td>0.236607</td>\n",
              "      <td>0.611722</td>\n",
              "      <td>0.290326</td>\n",
              "      <td>0.443937</td>\n",
              "      <td>0.252089</td>\n",
              "      <td>0.385635</td>\n",
              "      <td>0.365369</td>\n",
              "      <td>0.378205</td>\n",
              "      <td>0.112903</td>\n",
              "      <td>0.099057</td>\n",
              "      <td>0.081542</td>\n",
              "    </tr>\n",
              "    <tr>\n",
              "      <th>...</th>\n",
              "      <td>...</td>\n",
              "      <td>...</td>\n",
              "      <td>...</td>\n",
              "      <td>...</td>\n",
              "      <td>...</td>\n",
              "      <td>...</td>\n",
              "      <td>...</td>\n",
              "      <td>...</td>\n",
              "      <td>...</td>\n",
              "      <td>...</td>\n",
              "      <td>...</td>\n",
              "      <td>...</td>\n",
              "    </tr>\n",
              "    <tr>\n",
              "      <th>7106</th>\n",
              "      <td>2010-12-31 20:00:00</td>\n",
              "      <td>0.176339</td>\n",
              "      <td>0.282051</td>\n",
              "      <td>0.092658</td>\n",
              "      <td>0.258992</td>\n",
              "      <td>0.230682</td>\n",
              "      <td>0.249202</td>\n",
              "      <td>0.150832</td>\n",
              "      <td>0.283941</td>\n",
              "      <td>0.096774</td>\n",
              "      <td>0.078616</td>\n",
              "      <td>0.128672</td>\n",
              "    </tr>\n",
              "    <tr>\n",
              "      <th>7107</th>\n",
              "      <td>2010-12-31 21:00:00</td>\n",
              "      <td>0.174107</td>\n",
              "      <td>0.296703</td>\n",
              "      <td>0.087491</td>\n",
              "      <td>0.274114</td>\n",
              "      <td>0.219746</td>\n",
              "      <td>0.284030</td>\n",
              "      <td>0.152484</td>\n",
              "      <td>0.280922</td>\n",
              "      <td>0.104839</td>\n",
              "      <td>0.089623</td>\n",
              "      <td>0.149211</td>\n",
              "    </tr>\n",
              "    <tr>\n",
              "      <th>7108</th>\n",
              "      <td>2010-12-31 22:00:00</td>\n",
              "      <td>0.185268</td>\n",
              "      <td>0.313797</td>\n",
              "      <td>0.114260</td>\n",
              "      <td>0.288896</td>\n",
              "      <td>0.208037</td>\n",
              "      <td>0.244284</td>\n",
              "      <td>0.142446</td>\n",
              "      <td>0.389642</td>\n",
              "      <td>0.120968</td>\n",
              "      <td>0.080189</td>\n",
              "      <td>0.153360</td>\n",
              "    </tr>\n",
              "    <tr>\n",
              "      <th>7109</th>\n",
              "      <td>2010-12-31 23:00:00</td>\n",
              "      <td>0.149554</td>\n",
              "      <td>0.388278</td>\n",
              "      <td>0.103189</td>\n",
              "      <td>0.226499</td>\n",
              "      <td>0.169143</td>\n",
              "      <td>0.264933</td>\n",
              "      <td>0.154221</td>\n",
              "      <td>0.409711</td>\n",
              "      <td>0.112903</td>\n",
              "      <td>0.070755</td>\n",
              "      <td>0.134589</td>\n",
              "    </tr>\n",
              "    <tr>\n",
              "      <th>7110</th>\n",
              "      <td>2011-01-01 00:00:00</td>\n",
              "      <td>0.149554</td>\n",
              "      <td>0.395604</td>\n",
              "      <td>0.117459</td>\n",
              "      <td>0.332766</td>\n",
              "      <td>0.196895</td>\n",
              "      <td>0.215571</td>\n",
              "      <td>0.138549</td>\n",
              "      <td>0.438114</td>\n",
              "      <td>0.104839</td>\n",
              "      <td>0.062893</td>\n",
              "      <td>0.125544</td>\n",
              "    </tr>\n",
              "  </tbody>\n",
              "</table>\n",
              "<p>7111 rows × 12 columns</p>\n",
              "</div>"
            ],
            "text/plain": [
              "               date_time     deg_C  ...  target_benzene  target_nitrogen_oxides\n",
              "0    2010-03-10 18:00:00  0.263393  ...        0.187107                0.112758\n",
              "1    2010-03-10 19:00:00  0.265625  ...        0.154088                0.065968\n",
              "2    2010-03-10 20:00:00  0.252232  ...        0.143082                0.085147\n",
              "3    2010-03-10 21:00:00  0.216518  ...        0.150943                0.119219\n",
              "4    2010-03-10 22:00:00  0.236607  ...        0.099057                0.081542\n",
              "...                  ...       ...  ...             ...                     ...\n",
              "7106 2010-12-31 20:00:00  0.176339  ...        0.078616                0.128672\n",
              "7107 2010-12-31 21:00:00  0.174107  ...        0.089623                0.149211\n",
              "7108 2010-12-31 22:00:00  0.185268  ...        0.080189                0.153360\n",
              "7109 2010-12-31 23:00:00  0.149554  ...        0.070755                0.134589\n",
              "7110 2011-01-01 00:00:00  0.149554  ...        0.062893                0.125544\n",
              "\n",
              "[7111 rows x 12 columns]"
            ]
          },
          "metadata": {
            "tags": []
          },
          "execution_count": 277
        }
      ]
    },
    {
      "cell_type": "code",
      "metadata": {
        "id": "Wy8QS83jAlT9"
      },
      "source": [
        "from sklearn.ensemble import RandomForestRegressor\n",
        "from sklearn.multioutput import MultiOutputRegressor\n",
        "from sklearn.model_selection import train_test_split\n",
        "from sklearn.model_selection import GridSearchCV"
      ],
      "execution_count": 316,
      "outputs": []
    },
    {
      "cell_type": "code",
      "metadata": {
        "id": "1V6WSzgnWhsy"
      },
      "source": [
        "df_train2 = pd.read_csv(\"train.csv\")"
      ],
      "execution_count": 309,
      "outputs": []
    },
    {
      "cell_type": "code",
      "metadata": {
        "id": "GaQWt40PUjXy"
      },
      "source": [
        "X_train2 = np.array(df_train2.iloc[:, 1:9]).reshape(-1, 8)\n",
        "y_train2 = np.array(df_train2.iloc[:, 9:]).reshape(-1, 3)"
      ],
      "execution_count": 310,
      "outputs": []
    },
    {
      "cell_type": "code",
      "metadata": {
        "id": "2SefVF_jViNG"
      },
      "source": [
        "X_train2, X_test2, y_train2, y_test2 = train_test_split(X_train2, y_train2, test_size = .2)"
      ],
      "execution_count": 306,
      "outputs": []
    },
    {
      "cell_type": "code",
      "metadata": {
        "colab": {
          "base_uri": "https://localhost:8080/"
        },
        "id": "2B8UEs47Mjzd",
        "outputId": "89cdd6b0-5edb-429e-bc1d-bcb2fba277f1"
      },
      "source": [
        "regressor = MultiOutputRegressor(RandomForestRegressor(random_state=0))\n",
        "regressor.fit(X_train2, y_train2)"
      ],
      "execution_count": 314,
      "outputs": [
        {
          "output_type": "execute_result",
          "data": {
            "text/plain": [
              "MultiOutputRegressor(estimator=RandomForestRegressor(bootstrap=True,\n",
              "                                                     ccp_alpha=0.0,\n",
              "                                                     criterion='mse',\n",
              "                                                     max_depth=None,\n",
              "                                                     max_features='auto',\n",
              "                                                     max_leaf_nodes=None,\n",
              "                                                     max_samples=None,\n",
              "                                                     min_impurity_decrease=0.0,\n",
              "                                                     min_impurity_split=None,\n",
              "                                                     min_samples_leaf=1,\n",
              "                                                     min_samples_split=2,\n",
              "                                                     min_weight_fraction_leaf=0.0,\n",
              "                                                     n_estimators=100,\n",
              "                                                     n_jobs=None,\n",
              "                                                     oob_score=False,\n",
              "                                                     random_state=0, verbose=0,\n",
              "                                                     warm_start=False),\n",
              "                     n_jobs=None)"
            ]
          },
          "metadata": {
            "tags": []
          },
          "execution_count": 314
        }
      ]
    },
    {
      "cell_type": "code",
      "metadata": {
        "colab": {
          "base_uri": "https://localhost:8080/"
        },
        "id": "Jotiei8vMvfB",
        "outputId": "66aaf822-c990-4265-8f77-8f9e733c974d"
      },
      "source": [
        "regressor.score(X_test2, y_test2)"
      ],
      "execution_count": 312,
      "outputs": [
        {
          "output_type": "execute_result",
          "data": {
            "text/plain": [
              "0.8678081389279427"
            ]
          },
          "metadata": {
            "tags": []
          },
          "execution_count": 312
        }
      ]
    },
    {
      "cell_type": "code",
      "metadata": {
        "colab": {
          "base_uri": "https://localhost:8080/"
        },
        "id": "catc0YLwV4Dg",
        "outputId": "f9a70248-676c-4423-d7a0-1d13ffa56d3c"
      },
      "source": [
        "X_train2"
      ],
      "execution_count": 300,
      "outputs": [
        {
          "output_type": "execute_result",
          "data": {
            "text/plain": [
              "array([[0.22321429, 0.72893773, 0.35134337, ..., 0.34309642, 0.33101783,\n",
              "        0.23355585],\n",
              "       [0.26339286, 0.69230769, 0.40050192, ..., 0.39383197, 0.22563429,\n",
              "        0.11182448],\n",
              "       [0.31473214, 0.5006105 , 0.30105305, ..., 0.33804502, 0.31708247,\n",
              "        0.2483524 ],\n",
              "       ...,\n",
              "       [0.34151786, 0.43223443, 0.3103041 , ..., 0.3190358 , 0.41594307,\n",
              "        0.22262851],\n",
              "       [0.453125  , 0.66544567, 0.67818128, ..., 0.09145693, 0.66445   ,\n",
              "        0.57187806],\n",
              "       [0.31919643, 0.64835165, 0.43696487, ..., 0.2592609 , 0.46439917,\n",
              "        0.35150304]])"
            ]
          },
          "metadata": {
            "tags": []
          },
          "execution_count": 300
        }
      ]
    },
    {
      "cell_type": "code",
      "metadata": {
        "id": "JA_sATc-V39q"
      },
      "source": [
        "params = {'estimator__n_estimators': [5*x for x in range(10,50,5)], 'estimator__max_depth' : [x for x in range(3,7)]}"
      ],
      "execution_count": 320,
      "outputs": []
    },
    {
      "cell_type": "code",
      "metadata": {
        "id": "ryiD7PmXavvN"
      },
      "source": [
        "grid = GridSearchCV(regressor, cv = 5, n_jobs = -1, param_grid = params)"
      ],
      "execution_count": 321,
      "outputs": []
    },
    {
      "cell_type": "code",
      "metadata": {
        "colab": {
          "base_uri": "https://localhost:8080/"
        },
        "id": "vFKQDmoWbOuK",
        "outputId": "ee3645d1-17e7-4485-f8d5-f1612f52a44d"
      },
      "source": [
        "grid.get_params()"
      ],
      "execution_count": 319,
      "outputs": [
        {
          "output_type": "execute_result",
          "data": {
            "text/plain": [
              "{'cv': 5,\n",
              " 'error_score': nan,\n",
              " 'estimator': MultiOutputRegressor(estimator=RandomForestRegressor(bootstrap=True,\n",
              "                                                      ccp_alpha=0.0,\n",
              "                                                      criterion='mse',\n",
              "                                                      max_depth=None,\n",
              "                                                      max_features='auto',\n",
              "                                                      max_leaf_nodes=None,\n",
              "                                                      max_samples=None,\n",
              "                                                      min_impurity_decrease=0.0,\n",
              "                                                      min_impurity_split=None,\n",
              "                                                      min_samples_leaf=1,\n",
              "                                                      min_samples_split=2,\n",
              "                                                      min_weight_fraction_leaf=0.0,\n",
              "                                                      n_estimators=100,\n",
              "                                                      n_jobs=None,\n",
              "                                                      oob_score=False,\n",
              "                                                      random_state=0, verbose=0,\n",
              "                                                      warm_start=False),\n",
              "                      n_jobs=None),\n",
              " 'estimator__estimator': RandomForestRegressor(bootstrap=True, ccp_alpha=0.0, criterion='mse',\n",
              "                       max_depth=None, max_features='auto', max_leaf_nodes=None,\n",
              "                       max_samples=None, min_impurity_decrease=0.0,\n",
              "                       min_impurity_split=None, min_samples_leaf=1,\n",
              "                       min_samples_split=2, min_weight_fraction_leaf=0.0,\n",
              "                       n_estimators=100, n_jobs=None, oob_score=False,\n",
              "                       random_state=0, verbose=0, warm_start=False),\n",
              " 'estimator__estimator__bootstrap': True,\n",
              " 'estimator__estimator__ccp_alpha': 0.0,\n",
              " 'estimator__estimator__criterion': 'mse',\n",
              " 'estimator__estimator__max_depth': None,\n",
              " 'estimator__estimator__max_features': 'auto',\n",
              " 'estimator__estimator__max_leaf_nodes': None,\n",
              " 'estimator__estimator__max_samples': None,\n",
              " 'estimator__estimator__min_impurity_decrease': 0.0,\n",
              " 'estimator__estimator__min_impurity_split': None,\n",
              " 'estimator__estimator__min_samples_leaf': 1,\n",
              " 'estimator__estimator__min_samples_split': 2,\n",
              " 'estimator__estimator__min_weight_fraction_leaf': 0.0,\n",
              " 'estimator__estimator__n_estimators': 100,\n",
              " 'estimator__estimator__n_jobs': None,\n",
              " 'estimator__estimator__oob_score': False,\n",
              " 'estimator__estimator__random_state': 0,\n",
              " 'estimator__estimator__verbose': 0,\n",
              " 'estimator__estimator__warm_start': False,\n",
              " 'estimator__n_jobs': None,\n",
              " 'iid': 'deprecated',\n",
              " 'n_jobs': -1,\n",
              " 'param_grid': {'max_depth': [3, 4, 5, 6],\n",
              "  'n_estimators': [50, 75, 100, 125, 150, 175, 200, 225]},\n",
              " 'pre_dispatch': '2*n_jobs',\n",
              " 'refit': True,\n",
              " 'return_train_score': False,\n",
              " 'scoring': None,\n",
              " 'verbose': 0}"
            ]
          },
          "metadata": {
            "tags": []
          },
          "execution_count": 319
        }
      ]
    },
    {
      "cell_type": "code",
      "metadata": {
        "colab": {
          "base_uri": "https://localhost:8080/"
        },
        "id": "dRjH2IPGbBLs",
        "outputId": "4ceb3607-b479-4ec5-ed12-7e8e7274fbc3"
      },
      "source": [
        "grid.fit(X_train2, y_train2)"
      ],
      "execution_count": 322,
      "outputs": [
        {
          "output_type": "execute_result",
          "data": {
            "text/plain": [
              "GridSearchCV(cv=5, error_score=nan,\n",
              "             estimator=MultiOutputRegressor(estimator=RandomForestRegressor(bootstrap=True,\n",
              "                                                                            ccp_alpha=0.0,\n",
              "                                                                            criterion='mse',\n",
              "                                                                            max_depth=None,\n",
              "                                                                            max_features='auto',\n",
              "                                                                            max_leaf_nodes=None,\n",
              "                                                                            max_samples=None,\n",
              "                                                                            min_impurity_decrease=0.0,\n",
              "                                                                            min_impurity_split=None,\n",
              "                                                                            min_samples_leaf=1,\n",
              "                                                                            min_samples_split=2,\n",
              "                                                                            min_weight_fraction_leaf=0.0,\n",
              "                                                                            n_estimators=100,\n",
              "                                                                            n_jobs=None,\n",
              "                                                                            oob_score=False,\n",
              "                                                                            random_state=0,\n",
              "                                                                            verbose=0,\n",
              "                                                                            warm_start=False),\n",
              "                                            n_jobs=None),\n",
              "             iid='deprecated', n_jobs=-1,\n",
              "             param_grid={'estimator__max_depth': [3, 4, 5, 6],\n",
              "                         'estimator__n_estimators': [50, 75, 100, 125, 150, 175,\n",
              "                                                     200, 225]},\n",
              "             pre_dispatch='2*n_jobs', refit=True, return_train_score=False,\n",
              "             scoring=None, verbose=0)"
            ]
          },
          "metadata": {
            "tags": []
          },
          "execution_count": 322
        }
      ]
    },
    {
      "cell_type": "code",
      "metadata": {
        "colab": {
          "base_uri": "https://localhost:8080/",
          "height": 422
        },
        "id": "v4WiGXKLbDq0",
        "outputId": "e6c6c50d-730b-49f9-cbd6-405ac954dd77"
      },
      "source": [
        "df_test"
      ],
      "execution_count": 324,
      "outputs": [
        {
          "output_type": "execute_result",
          "data": {
            "text/html": [
              "<div>\n",
              "<style scoped>\n",
              "    .dataframe tbody tr th:only-of-type {\n",
              "        vertical-align: middle;\n",
              "    }\n",
              "\n",
              "    .dataframe tbody tr th {\n",
              "        vertical-align: top;\n",
              "    }\n",
              "\n",
              "    .dataframe thead th {\n",
              "        text-align: right;\n",
              "    }\n",
              "</style>\n",
              "<table border=\"1\" class=\"dataframe\">\n",
              "  <thead>\n",
              "    <tr style=\"text-align: right;\">\n",
              "      <th></th>\n",
              "      <th>date_time</th>\n",
              "      <th>deg_C</th>\n",
              "      <th>relative_humidity</th>\n",
              "      <th>absolute_humidity</th>\n",
              "      <th>sensor_1</th>\n",
              "      <th>sensor_2</th>\n",
              "      <th>sensor_3</th>\n",
              "      <th>sensor_4</th>\n",
              "      <th>sensor_5</th>\n",
              "    </tr>\n",
              "  </thead>\n",
              "  <tbody>\n",
              "    <tr>\n",
              "      <th>0</th>\n",
              "      <td>2011-01-01 00:00:00</td>\n",
              "      <td>8.0</td>\n",
              "      <td>41.3</td>\n",
              "      <td>0.4375</td>\n",
              "      <td>1108.8</td>\n",
              "      <td>745.7</td>\n",
              "      <td>797.1</td>\n",
              "      <td>880.0</td>\n",
              "      <td>1273.1</td>\n",
              "    </tr>\n",
              "    <tr>\n",
              "      <th>1</th>\n",
              "      <td>2011-01-01 01:00:00</td>\n",
              "      <td>5.1</td>\n",
              "      <td>51.7</td>\n",
              "      <td>0.4564</td>\n",
              "      <td>1249.5</td>\n",
              "      <td>864.9</td>\n",
              "      <td>687.9</td>\n",
              "      <td>972.8</td>\n",
              "      <td>1714.0</td>\n",
              "    </tr>\n",
              "    <tr>\n",
              "      <th>2</th>\n",
              "      <td>2011-01-01 02:00:00</td>\n",
              "      <td>5.8</td>\n",
              "      <td>51.5</td>\n",
              "      <td>0.4689</td>\n",
              "      <td>1102.6</td>\n",
              "      <td>878.0</td>\n",
              "      <td>693.7</td>\n",
              "      <td>941.9</td>\n",
              "      <td>1300.8</td>\n",
              "    </tr>\n",
              "    <tr>\n",
              "      <th>3</th>\n",
              "      <td>2011-01-01 03:00:00</td>\n",
              "      <td>5.0</td>\n",
              "      <td>52.3</td>\n",
              "      <td>0.4693</td>\n",
              "      <td>1139.7</td>\n",
              "      <td>916.2</td>\n",
              "      <td>725.6</td>\n",
              "      <td>1011.0</td>\n",
              "      <td>1283.0</td>\n",
              "    </tr>\n",
              "    <tr>\n",
              "      <th>4</th>\n",
              "      <td>2011-01-01 04:00:00</td>\n",
              "      <td>4.5</td>\n",
              "      <td>57.5</td>\n",
              "      <td>0.4650</td>\n",
              "      <td>1022.4</td>\n",
              "      <td>838.5</td>\n",
              "      <td>871.5</td>\n",
              "      <td>967.0</td>\n",
              "      <td>1142.3</td>\n",
              "    </tr>\n",
              "    <tr>\n",
              "      <th>...</th>\n",
              "      <td>...</td>\n",
              "      <td>...</td>\n",
              "      <td>...</td>\n",
              "      <td>...</td>\n",
              "      <td>...</td>\n",
              "      <td>...</td>\n",
              "      <td>...</td>\n",
              "      <td>...</td>\n",
              "      <td>...</td>\n",
              "    </tr>\n",
              "    <tr>\n",
              "      <th>2242</th>\n",
              "      <td>2011-04-04 10:00:00</td>\n",
              "      <td>23.2</td>\n",
              "      <td>28.7</td>\n",
              "      <td>0.7568</td>\n",
              "      <td>1340.3</td>\n",
              "      <td>1023.9</td>\n",
              "      <td>522.8</td>\n",
              "      <td>1374.0</td>\n",
              "      <td>1659.8</td>\n",
              "    </tr>\n",
              "    <tr>\n",
              "      <th>2243</th>\n",
              "      <td>2011-04-04 11:00:00</td>\n",
              "      <td>24.5</td>\n",
              "      <td>22.5</td>\n",
              "      <td>0.7119</td>\n",
              "      <td>1232.8</td>\n",
              "      <td>955.1</td>\n",
              "      <td>616.1</td>\n",
              "      <td>1226.1</td>\n",
              "      <td>1269.0</td>\n",
              "    </tr>\n",
              "    <tr>\n",
              "      <th>2244</th>\n",
              "      <td>2011-04-04 12:00:00</td>\n",
              "      <td>26.6</td>\n",
              "      <td>19.0</td>\n",
              "      <td>0.6406</td>\n",
              "      <td>1187.7</td>\n",
              "      <td>1052.4</td>\n",
              "      <td>572.8</td>\n",
              "      <td>1253.4</td>\n",
              "      <td>1081.1</td>\n",
              "    </tr>\n",
              "    <tr>\n",
              "      <th>2245</th>\n",
              "      <td>2011-04-04 13:00:00</td>\n",
              "      <td>29.1</td>\n",
              "      <td>12.7</td>\n",
              "      <td>0.5139</td>\n",
              "      <td>1053.2</td>\n",
              "      <td>1009.0</td>\n",
              "      <td>702.0</td>\n",
              "      <td>1009.8</td>\n",
              "      <td>808.5</td>\n",
              "    </tr>\n",
              "    <tr>\n",
              "      <th>2246</th>\n",
              "      <td>2011-04-04 14:00:00</td>\n",
              "      <td>27.9</td>\n",
              "      <td>13.5</td>\n",
              "      <td>0.5028</td>\n",
              "      <td>1124.6</td>\n",
              "      <td>1078.4</td>\n",
              "      <td>608.2</td>\n",
              "      <td>1061.3</td>\n",
              "      <td>816.0</td>\n",
              "    </tr>\n",
              "  </tbody>\n",
              "</table>\n",
              "<p>2247 rows × 9 columns</p>\n",
              "</div>"
            ],
            "text/plain": [
              "                date_time  deg_C  ...  sensor_4  sensor_5\n",
              "0     2011-01-01 00:00:00    8.0  ...     880.0    1273.1\n",
              "1     2011-01-01 01:00:00    5.1  ...     972.8    1714.0\n",
              "2     2011-01-01 02:00:00    5.8  ...     941.9    1300.8\n",
              "3     2011-01-01 03:00:00    5.0  ...    1011.0    1283.0\n",
              "4     2011-01-01 04:00:00    4.5  ...     967.0    1142.3\n",
              "...                   ...    ...  ...       ...       ...\n",
              "2242  2011-04-04 10:00:00   23.2  ...    1374.0    1659.8\n",
              "2243  2011-04-04 11:00:00   24.5  ...    1226.1    1269.0\n",
              "2244  2011-04-04 12:00:00   26.6  ...    1253.4    1081.1\n",
              "2245  2011-04-04 13:00:00   29.1  ...    1009.8     808.5\n",
              "2246  2011-04-04 14:00:00   27.9  ...    1061.3     816.0\n",
              "\n",
              "[2247 rows x 9 columns]"
            ]
          },
          "metadata": {
            "tags": []
          },
          "execution_count": 324
        }
      ]
    },
    {
      "cell_type": "code",
      "metadata": {
        "id": "nC57wMPSfw55"
      },
      "source": [
        "pred2 = grid.predict(df_test.iloc[:, 1:])"
      ],
      "execution_count": 328,
      "outputs": []
    },
    {
      "cell_type": "code",
      "metadata": {
        "id": "raIgbo4lgCHB"
      },
      "source": [
        "df_pred2 = pd.DataFrame(pred2)"
      ],
      "execution_count": 330,
      "outputs": []
    },
    {
      "cell_type": "code",
      "metadata": {
        "id": "J-UBaQgngPTp"
      },
      "source": [
        "df_pred2.columns = ['target_carbon_monoxide',\t'target_benzene',\t'target_nitrogen_oxides']"
      ],
      "execution_count": 331,
      "outputs": []
    },
    {
      "cell_type": "code",
      "metadata": {
        "id": "EWtXpUMKglXf"
      },
      "source": [
        "df_sub_grid = pd.concat([df_test.date_time, df_pred2], axis = 1)"
      ],
      "execution_count": 336,
      "outputs": []
    },
    {
      "cell_type": "code",
      "metadata": {
        "id": "D8DkjD-YhMLu"
      },
      "source": [
        "df_sub_grid.to_csv(\"RF_Grid.csv\", index = False)"
      ],
      "execution_count": 338,
      "outputs": []
    }
  ]
}